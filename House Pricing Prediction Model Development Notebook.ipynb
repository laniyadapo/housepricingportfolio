{
 "cells": [
  {
   "cell_type": "markdown",
   "metadata": {
    "colab_type": "text",
    "id": "dy-lRtqUQlWv"
   },
   "source": [
    "# House Pricing Prediction Portfolio - Notebook 3 of 3\n",
    "\n"
   ]
  },
  {
   "cell_type": "markdown",
   "metadata": {
    "colab_type": "text",
    "id": "wt-S9LfOQlWx"
   },
   "source": [
    "After completing the cleaning and EDA steps on the dataset in the \"House Pricing Prediction Data Cleaning Notebook\" and \"House Pricing Prediction EDA Notebook\" in the project portfolio.\n",
    "\n",
    "We will now build couple of models to predict the target variable, identify the model with the best performance and use to produce the final deliverables."
   ]
  },
  {
   "cell_type": "markdown",
   "metadata": {
    "colab_type": "text",
    "id": "sFmVdbhzQlXN"
   },
   "source": [
    "### 1.1 Import Libraries"
   ]
  },
  {
   "cell_type": "code",
   "execution_count": 1,
   "metadata": {
    "colab": {
     "base_uri": "https://localhost:8080/",
     "height": 51
    },
    "colab_type": "code",
    "executionInfo": {
     "elapsed": 992,
     "status": "ok",
     "timestamp": 1599660444428,
     "user": {
      "displayName": "Dapo Laniya",
      "photoUrl": "",
      "userId": "07293732013348809745"
     },
     "user_tz": 240
    },
    "id": "GyFILP5eQlW7",
    "outputId": "baae462c-c836-4549-c63f-6b4608bf8510"
   },
   "outputs": [],
   "source": [
    "#Analysis packages\n",
    "import pandas as pd\n",
    "import sklearn as sk\n",
    "import numpy as np\n",
    "import scipy.stats as sp\n",
    "\n",
    "#Visualization packages\n",
    "import matplotlib.pyplot as plt\n",
    "import matplotlib as matplot\n",
    "from matplotlib.ticker import MaxNLocator\n",
    "import seaborn as sns\n",
    "\n",
    "#Preprocessing\n",
    "from sklearn import preprocessing\n",
    "\n",
    "#Models & Sklearn packages\n",
    "from sklearn.metrics import mean_absolute_error as mae\n",
    "from sklearn.model_selection import cross_val_score as cvs\n",
    "from sklearn.linear_model import LinearRegression as lr\n",
    "from sklearn.ensemble import RandomForestRegressor as rfregr\n",
    "from sklearn.ensemble import GradientBoostingRegressor as grbregr\n",
    "from sklearn.model_selection import RandomizedSearchCV\n",
    "from sklearn.model_selection import train_test_split\n",
    "from sklearn.model_selection import GridSearchCV\n",
    "from sklearn.linear_model import Lasso\n",
    "from sklearn.linear_model import Ridge\n",
    "\n",
    "\n",
    "#setting directory where python interpreter looks for code files\n",
    "import sys\n",
    "sys.path.insert(0, './scripts')\n",
    "\n",
    "#read in functions from script file\n",
    "from codes import eda_process, model\n",
    "\n",
    "from tqdm import tqdm\n",
    "import datetime\n",
    "\n",
    "import warnings\n",
    "warnings.filterwarnings('ignore')\n",
    "#your info here\n",
    "__author__ = \"Laniya Oladapo\"\n",
    "__email__ = \"laniyadapo@gmail.com\""
   ]
  },
  {
   "cell_type": "markdown",
   "metadata": {
    "colab_type": "text",
    "id": "sFmVdbhzQlXN"
   },
   "source": [
    "### 1.2 Define Classes"
   ]
  },
  {
   "cell_type": "markdown",
   "metadata": {
    "colab_type": "text",
    "id": "RR0SLpXZQlXd"
   },
   "source": [
    "Classes defined in \"codes.py\" module under script folder in working directory"
   ]
  },
  {
   "cell_type": "markdown",
   "metadata": {
    "colab_type": "raw",
    "id": "5D0ePMUpQlXL"
   },
   "source": [
    "## Part 3 - Model Development"
   ]
  },
  {
   "cell_type": "markdown",
   "metadata": {
    "colab_type": "text",
    "id": "sFmVdbhzQlXN"
   },
   "source": [
    "### 3.1 Load and Prepare Data For Modeling "
   ]
  },
  {
   "cell_type": "code",
   "execution_count": 2,
   "metadata": {
    "colab": {},
    "colab_type": "code",
    "executionInfo": {
     "elapsed": 3790,
     "status": "ok",
     "timestamp": 1599660454785,
     "user": {
      "displayName": "Dapo Laniya",
      "photoUrl": "",
      "userId": "07293732013348809745"
     },
     "user_tz": 240
    },
    "id": "nnuZkIzVQlXP"
   },
   "outputs": [],
   "source": [
    "#load the data exported from the EDA Notebook into a Pandas dataframe\n",
    "train_df = pd.read_csv(\"train_df_forModel.csv\")\n",
    "test_df = pd.read_csv(\"test_df_forModel.csv\")"
   ]
  },
  {
   "cell_type": "code",
   "execution_count": 3,
   "metadata": {},
   "outputs": [],
   "source": [
    "#Create a copy of data before starting model building process\n",
    "train_df_init = train_df.copy()\n",
    "test_df_init = test_df.copy()"
   ]
  },
  {
   "cell_type": "markdown",
   "metadata": {
    "colab_type": "text",
    "id": "RR0SLpXZQlXd"
   },
   "source": [
    "3.1.1 Prepare dataframe for modeling"
   ]
  },
  {
   "cell_type": "code",
   "execution_count": 4,
   "metadata": {},
   "outputs": [],
   "source": [
    "#Create independent features dataframe for modelling\n",
    "train_df_X = (train_df.drop(['SalePrice'], axis=1)).copy()"
   ]
  },
  {
   "cell_type": "code",
   "execution_count": 5,
   "metadata": {},
   "outputs": [],
   "source": [
    "#Create dependent feature dataframe for modelling\n",
    "train_df_Y = train_df.SalePrice"
   ]
  },
  {
   "cell_type": "code",
   "execution_count": 6,
   "metadata": {
    "scrolled": true
   },
   "outputs": [
    {
     "data": {
      "text/plain": [
       "Index(['MSZoning', 'Street', 'Alley', 'LotShape', 'LandContour', 'LotConfig',\n",
       "       'Neighborhood', 'Condition1', 'Condition2', 'BldgType', 'HouseStyle',\n",
       "       'RoofStyle', 'RoofMatl', 'Exterior1st', 'MasVnrType', 'ExterQual',\n",
       "       'ExterCond', 'Foundation', 'BsmtQual', 'BsmtCond', 'BsmtExposure',\n",
       "       'BsmtFinType1', 'BsmtFinType2', 'Heating', 'HeatingQC', 'CentralAir',\n",
       "       'Electrical', 'KitchenQual', 'Functional', 'FireplaceQu', 'GarageType',\n",
       "       'GarageFinish', 'GarageQual', 'GarageCond', 'PavedDrive', 'PoolQC',\n",
       "       'Fence', 'MiscFeature', 'SaleType'],\n",
       "      dtype='object')"
      ]
     },
     "execution_count": 6,
     "metadata": {},
     "output_type": "execute_result"
    }
   ],
   "source": [
    "#Extract all categorical feature ready for encoding\n",
    "train_df_X.select_dtypes(include=['object']).columns"
   ]
  },
  {
   "cell_type": "code",
   "execution_count": 7,
   "metadata": {},
   "outputs": [
    {
     "data": {
      "text/html": [
       "<div>\n",
       "<style scoped>\n",
       "    .dataframe tbody tr th:only-of-type {\n",
       "        vertical-align: middle;\n",
       "    }\n",
       "\n",
       "    .dataframe tbody tr th {\n",
       "        vertical-align: top;\n",
       "    }\n",
       "\n",
       "    .dataframe thead th {\n",
       "        text-align: right;\n",
       "    }\n",
       "</style>\n",
       "<table border=\"1\" class=\"dataframe\">\n",
       "  <thead>\n",
       "    <tr style=\"text-align: right;\">\n",
       "      <th></th>\n",
       "      <th>MSZoning</th>\n",
       "      <th>Street</th>\n",
       "      <th>Alley</th>\n",
       "      <th>LotShape</th>\n",
       "      <th>LandContour</th>\n",
       "      <th>LotConfig</th>\n",
       "      <th>Neighborhood</th>\n",
       "      <th>Condition1</th>\n",
       "      <th>Condition2</th>\n",
       "      <th>BldgType</th>\n",
       "      <th>...</th>\n",
       "      <th>FireplaceQu</th>\n",
       "      <th>GarageType</th>\n",
       "      <th>GarageFinish</th>\n",
       "      <th>GarageQual</th>\n",
       "      <th>GarageCond</th>\n",
       "      <th>PavedDrive</th>\n",
       "      <th>PoolQC</th>\n",
       "      <th>Fence</th>\n",
       "      <th>MiscFeature</th>\n",
       "      <th>SaleType</th>\n",
       "    </tr>\n",
       "  </thead>\n",
       "  <tbody>\n",
       "    <tr>\n",
       "      <th>count</th>\n",
       "      <td>1454</td>\n",
       "      <td>1454</td>\n",
       "      <td>1454</td>\n",
       "      <td>1454</td>\n",
       "      <td>1454</td>\n",
       "      <td>1454</td>\n",
       "      <td>1454</td>\n",
       "      <td>1454</td>\n",
       "      <td>1454</td>\n",
       "      <td>1454</td>\n",
       "      <td>...</td>\n",
       "      <td>1454</td>\n",
       "      <td>1454</td>\n",
       "      <td>1454</td>\n",
       "      <td>1454</td>\n",
       "      <td>1454</td>\n",
       "      <td>1454</td>\n",
       "      <td>1454</td>\n",
       "      <td>1454</td>\n",
       "      <td>1454</td>\n",
       "      <td>1454</td>\n",
       "    </tr>\n",
       "    <tr>\n",
       "      <th>unique</th>\n",
       "      <td>5</td>\n",
       "      <td>2</td>\n",
       "      <td>3</td>\n",
       "      <td>4</td>\n",
       "      <td>4</td>\n",
       "      <td>5</td>\n",
       "      <td>25</td>\n",
       "      <td>9</td>\n",
       "      <td>8</td>\n",
       "      <td>5</td>\n",
       "      <td>...</td>\n",
       "      <td>6</td>\n",
       "      <td>7</td>\n",
       "      <td>4</td>\n",
       "      <td>6</td>\n",
       "      <td>6</td>\n",
       "      <td>3</td>\n",
       "      <td>4</td>\n",
       "      <td>5</td>\n",
       "      <td>5</td>\n",
       "      <td>9</td>\n",
       "    </tr>\n",
       "    <tr>\n",
       "      <th>top</th>\n",
       "      <td>RL</td>\n",
       "      <td>Pave</td>\n",
       "      <td>None</td>\n",
       "      <td>Reg</td>\n",
       "      <td>Lvl</td>\n",
       "      <td>Inside</td>\n",
       "      <td>NAmes</td>\n",
       "      <td>Norm</td>\n",
       "      <td>Norm</td>\n",
       "      <td>1Fam</td>\n",
       "      <td>...</td>\n",
       "      <td>None</td>\n",
       "      <td>Attchd</td>\n",
       "      <td>Unf</td>\n",
       "      <td>TA</td>\n",
       "      <td>TA</td>\n",
       "      <td>Y</td>\n",
       "      <td>None</td>\n",
       "      <td>None</td>\n",
       "      <td>None</td>\n",
       "      <td>WD</td>\n",
       "    </tr>\n",
       "    <tr>\n",
       "      <th>freq</th>\n",
       "      <td>1145</td>\n",
       "      <td>1449</td>\n",
       "      <td>1363</td>\n",
       "      <td>925</td>\n",
       "      <td>1311</td>\n",
       "      <td>1050</td>\n",
       "      <td>224</td>\n",
       "      <td>1256</td>\n",
       "      <td>1439</td>\n",
       "      <td>1215</td>\n",
       "      <td>...</td>\n",
       "      <td>690</td>\n",
       "      <td>864</td>\n",
       "      <td>604</td>\n",
       "      <td>1305</td>\n",
       "      <td>1320</td>\n",
       "      <td>1334</td>\n",
       "      <td>1448</td>\n",
       "      <td>1173</td>\n",
       "      <td>1402</td>\n",
       "      <td>1262</td>\n",
       "    </tr>\n",
       "  </tbody>\n",
       "</table>\n",
       "<p>4 rows × 39 columns</p>\n",
       "</div>"
      ],
      "text/plain": [
       "       MSZoning Street Alley LotShape LandContour LotConfig Neighborhood  \\\n",
       "count      1454   1454  1454     1454        1454      1454         1454   \n",
       "unique        5      2     3        4           4         5           25   \n",
       "top          RL   Pave  None      Reg         Lvl    Inside        NAmes   \n",
       "freq       1145   1449  1363      925        1311      1050          224   \n",
       "\n",
       "       Condition1 Condition2 BldgType  ... FireplaceQu GarageType  \\\n",
       "count        1454       1454     1454  ...        1454       1454   \n",
       "unique          9          8        5  ...           6          7   \n",
       "top          Norm       Norm     1Fam  ...        None     Attchd   \n",
       "freq         1256       1439     1215  ...         690        864   \n",
       "\n",
       "       GarageFinish GarageQual GarageCond PavedDrive PoolQC Fence MiscFeature  \\\n",
       "count          1454       1454       1454       1454   1454  1454        1454   \n",
       "unique            4          6          6          3      4     5           5   \n",
       "top             Unf         TA         TA          Y   None  None        None   \n",
       "freq            604       1305       1320       1334   1448  1173        1402   \n",
       "\n",
       "       SaleType  \n",
       "count      1454  \n",
       "unique        9  \n",
       "top          WD  \n",
       "freq       1262  \n",
       "\n",
       "[4 rows x 39 columns]"
      ]
     },
     "execution_count": 7,
     "metadata": {},
     "output_type": "execute_result"
    }
   ],
   "source": [
    "train_df_X.select_dtypes(include=['object']).describe()"
   ]
  },
  {
   "cell_type": "markdown",
   "metadata": {
    "colab_type": "text",
    "id": "oY6ZZOdNQldg"
   },
   "source": [
    "Most machine learning models can only handle numerical values.\n",
    "\n",
    "In order to get the data ready for modelling we will transform categorical features into individual binary feature using the dummy variable coding approach. "
   ]
  },
  {
   "cell_type": "code",
   "execution_count": 8,
   "metadata": {},
   "outputs": [],
   "source": [
    "#Encode categorical features\n",
    "cat_variables = ['MSZoning', 'Street', 'Alley', 'LotShape', 'LandContour', 'LotConfig', 'Neighborhood', 'Condition1', \n",
    "                 'Condition2', 'BldgType', 'HouseStyle', 'RoofStyle', 'RoofMatl', 'Exterior1st', 'MasVnrType', \n",
    "                 'ExterQual', 'ExterCond', 'Foundation', 'BsmtQual', 'BsmtCond', 'BsmtExposure', 'BsmtFinType1', \n",
    "                 'BsmtFinType2', 'Heating', 'HeatingQC', 'CentralAir', 'Electrical', 'KitchenQual', 'Functional', \n",
    "                 'FireplaceQu', 'GarageType', 'GarageFinish', 'GarageQual', 'GarageCond', 'PavedDrive', 'PoolQC', \n",
    "                 'Fence', 'MiscFeature', 'SaleType']\n",
    "\n",
    "for var in cat_variables:\n",
    "    dummies = pd.get_dummies(train_df_X[var], prefix=var)\n",
    "    train_df_X = pd.concat([train_df_X, dummies], axis=1)\n",
    "    train_df_X.drop([var], axis=1, inplace=True)"
   ]
  },
  {
   "cell_type": "code",
   "execution_count": 9,
   "metadata": {},
   "outputs": [],
   "source": [
    "#Split training data\n",
    "X_train, X_test, y_train, y_test = train_test_split(train_df_X, train_df_Y, test_size=0.20, random_state=5)"
   ]
  },
  {
   "cell_type": "markdown",
   "metadata": {
    "colab_type": "text",
    "id": "jeZTvMoSQldX"
   },
   "source": [
    "### 3.2 Description of Selected Models"
   ]
  },
  {
   "cell_type": "markdown",
   "metadata": {},
   "source": [
    "Below are descriptions of selected models and rationale behind selecting them.\n",
    "\n",
    "1. Ridge and Lasso Regression - powerful techniques for creating parsmonious models in the presence of a 'large' number of features.\n",
    "2. Random Forest Regressor - improves the accuracy by reducing overfitting problem and the variance in decision trees.\n",
    "3. GradientBoostingRegressor - typically produces best predictions because it can optimize on different loss functions and provides several hyperparameter tuning options that make the function fit very flexible."
   ]
  },
  {
   "cell_type": "markdown",
   "metadata": {},
   "source": [
    "3.2.1 First step is to create the models using default parameters."
   ]
  },
  {
   "cell_type": "code",
   "execution_count": 10,
   "metadata": {},
   "outputs": [
    {
     "name": "stdout",
     "output_type": "stream",
     "text": [
      "[('Lasso', Lasso(alpha=0.0005, random_state=5)), ('RandomForest', RandomForestRegressor(random_state=5)), ('GradientBoosting', GradientBoostingRegressor(learning_rate=0.05, max_depth=4, n_estimators=300,\n",
      "                          random_state=5)), ('Ridge', Ridge(alpha=0.002, random_state=5))]\n"
     ]
    }
   ],
   "source": [
    "# create models\n",
    "models_eval = []\n",
    "#models_eval.append(('LinearRegression', lr()))\n",
    "models_eval.append(('Lasso', Lasso(alpha=0.0005, random_state=5)))\n",
    "models_eval.append(('RandomForest', rfregr(random_state=5)))\n",
    "models_eval.append(('GradientBoosting', grbregr(n_estimators=300, learning_rate=0.05, max_depth=4, random_state=5)))\n",
    "models_eval.append(('Ridge', Ridge(alpha=0.002, random_state=5)))\n",
    "                   \n",
    "print(models_eval)"
   ]
  },
  {
   "cell_type": "markdown",
   "metadata": {},
   "source": [
    "3.2.2 Evaluate the selected models using MAE metric"
   ]
  },
  {
   "cell_type": "code",
   "execution_count": 11,
   "metadata": {},
   "outputs": [
    {
     "name": "stdout",
     "output_type": "stream",
     "text": [
      "Lasso: 19492.355820\n",
      "RandomForest: 15593.195292\n",
      "GradientBoosting: 14474.336273\n",
      "Ridge: 20344.994315\n"
     ]
    },
    {
     "data": {
      "image/png": "[encoded data removed]",
      "text/plain": [
       "<Figure size 1080x504 with 1 Axes>"
      ]
     },
     "metadata": {
      "needs_background": "light"
     },
     "output_type": "display_data"
    }
   ],
   "source": [
    "#Evaluate baseline models with default parameters\n",
    "model_run1 = model(X_train, X_test, y_train, y_test)\n",
    "model_run1.model_run(models_eval, 'Baseline')"
   ]
  },
  {
   "cell_type": "markdown",
   "metadata": {
    "colab_type": "text",
    "id": "7Dt9cVdUQldW"
   },
   "source": [
    "With a baseline mean absolute error established for each model, our next task is to improve the scores and select the best model."
   ]
  },
  {
   "cell_type": "markdown",
   "metadata": {
    "colab_type": "text",
    "id": "CXyUsqGWQldY"
   },
   "source": [
    "Considering the baseline model predictions are based on data provided without extensive feature generation or model tuning we will perform some feature engineering and cross validation to improve the scores before selecting the best model.\n",
    "\n",
    "The SalePrice prediction expected output is a continuous value hence we will use from the suite of regression supervised learning algorithms. "
   ]
  },
  {
   "cell_type": "markdown",
   "metadata": {
    "colab_type": "text",
    "id": "VRWivsSyQldf"
   },
   "source": [
    "### 3.3 Feature Engineering "
   ]
  },
  {
   "cell_type": "markdown",
   "metadata": {
    "colab_type": "text",
    "id": "ynW6sQjqQlc-"
   },
   "source": [
    "3.3.1 Create dataframe for independent features"
   ]
  },
  {
   "cell_type": "code",
   "execution_count": 12,
   "metadata": {},
   "outputs": [],
   "source": [
    "#Create independent features dataframe for modelling\n",
    "train_df1_X = (train_df.drop(['SalePrice'], axis=1)).copy()"
   ]
  },
  {
   "cell_type": "markdown",
   "metadata": {
    "colab_type": "text",
    "id": "ynW6sQjqQlc-"
   },
   "source": [
    "3.3.2 Perform feature engineering on data to improve model performance"
   ]
  },
  {
   "cell_type": "code",
   "execution_count": 13,
   "metadata": {},
   "outputs": [],
   "source": [
    "#Create dataframe for log transformed target variable\n",
    "train_df_logY = np.log(train_df['SalePrice'])"
   ]
  },
  {
   "cell_type": "code",
   "execution_count": 14,
   "metadata": {},
   "outputs": [],
   "source": [
    "#Convert some features to string datatype based on their description\n",
    "#train_df1_X['OverallQual'] = train_df1_X['OverallQual'].astype(str)\n",
    "#train_df1_X['OverallCond'] = train_df1_X['OverallCond'].astype(str)\n",
    "train_df1_X['MSSubClass'] = train_df1_X['MSSubClass'].astype(str)"
   ]
  },
  {
   "cell_type": "code",
   "execution_count": 15,
   "metadata": {},
   "outputs": [],
   "source": [
    "# Converting some of the categorical values to numeric ones. Choosing similar values for closer groups to balance linear relations...\n",
    "\n",
    "hood_map = {'MeadowV': 1, 'IDOTRR': 1, 'BrDale': 1, 'BrkSide': 2, 'OldTown': 2, 'Edwards': 2, 'Sawyer': 3, 'Blueste': 3, \n",
    "            'SWISU': 3, 'NPkVill': 3, 'NAmes': 3, 'Mitchel': 4, 'SawyerW': 5, 'NWAmes': 5, 'Gilbert': 5, 'Blmngtn': 5, \n",
    "            'CollgCr': 5, 'ClearCr': 6, 'Crawfor': 6, 'Veenker': 7, 'Somerst': 7, 'Timber': 8, 'StoneBr': 9, 'NridgHt': 10, \n",
    "            'NoRidge': 10}\n",
    "train_df1_X['Neighborhood'] = train_df1_X['Neighborhood'].map(hood_map).astype('int')\n",
    "\n",
    "exterior_map = {'Po': 1, 'Fa': 2, 'TA': 3, 'Gd': 4, 'Ex': 5}\n",
    "train_df1_X['ExterQual'] = train_df1_X['ExterQual'].map(exterior_map).astype('int')\n",
    "train_df1_X['ExterCond'] = train_df1_X['ExterCond'].map(exterior_map).astype('int')\n",
    "\n",
    "bsmt_map = {'None': 0, 'Po': 1, 'Fa': 2, 'TA': 3, 'Gd': 4, 'Ex': 5}\n",
    "train_df1_X['BsmtQual'] = train_df1_X['BsmtQual'].map(bsmt_map).astype('int')\n",
    "train_df1_X['FireplaceQu'] = train_df1_X['FireplaceQu'].map(bsmt_map).astype('int')\n",
    "train_df1_X['GarageCond'] = train_df1_X['GarageCond'].map(bsmt_map).astype('int')\n",
    "train_df1_X['GarageQual'] = train_df1_X['GarageQual'].map(bsmt_map).astype('int')\n",
    "train_df1_X['BsmtCond'] = train_df1_X['BsmtCond'].map(bsmt_map).astype('int')\n",
    "\n",
    "bsmtf_map = {'None': 0, 'Unf': 1, 'LwQ': 2, 'Rec': 3, 'BLQ': 4, 'ALQ': 5, 'GLQ': 6}\n",
    "train_df1_X['BsmtFinType1'] = train_df1_X['BsmtFinType1'].map(bsmtf_map).astype('int')\n",
    "train_df1_X['BsmtFinType2'] = train_df1_X['BsmtFinType2'].map(bsmtf_map).astype('int')\n",
    "\n",
    "misc_map = {'Po': 1, 'Fa': 2, 'TA': 3, 'Gd': 4, 'Ex': 5}\n",
    "train_df1_X['HeatingQC'] = train_df1_X['HeatingQC'].map(misc_map).astype('int')\n",
    "train_df1_X['KitchenQual'] = train_df1_X['KitchenQual'].map(misc_map).astype('int')\n",
    "\n",
    "gar_map = {'None': 0, 'Unf': 1, 'RFn': 2, 'Fin': 3,}\n",
    "train_df1_X['GarageFinish'] = train_df1_X['GarageFinish'].map(gar_map).astype('int')\n",
    "\n",
    "bsmtex_map = {'None': 0, 'No': 1, 'Mn': 2, 'Av': 3, 'Gd': 4}\n",
    "train_df1_X['BsmtExposure'] = train_df1_X['BsmtExposure'].map(bsmtex_map).astype('int')\n",
    "\n",
    "cair_map = {'N': 0, 'Y': 1,}\n",
    "train_df1_X['CentralAir'] = train_df1_X['CentralAir'].map(cair_map).astype('int')\n",
    "\n",
    "paved_map = {'N': 0, 'P': 1, 'Y': 2,}\n",
    "train_df1_X['PavedDrive'] = train_df1_X['PavedDrive'].map(paved_map).astype('int')\n",
    "\n",
    "poolqc_map = {'None': 0, 'Fa': 1, 'TA': 2, 'Gd': 3, 'Ex': 4}\n",
    "train_df1_X['PoolQC'] = train_df1_X['PoolQC'].map(poolqc_map).astype('int')"
   ]
  },
  {
   "cell_type": "code",
   "execution_count": 16,
   "metadata": {},
   "outputs": [],
   "source": [
    "#Create a feature for Age of house using the YearBuilt & YearRemodAdd features and drop YearBuilt, YearRemodAdd, Diff\n",
    "now = datetime.datetime.now()\n",
    "train_df1_X['Diff'] = train_df1_X['YearRemodAdd'] - train_df1_X['YearBuilt']\n",
    "\n",
    "if ((train_df1_X['Diff'] > 0).any()):\n",
    "    house_age = now.year - train_df1_X['YearRemodAdd']\n",
    "    train_df1_X['HouseAge'] = now.year - train_df1_X['YearRemodAdd']\n",
    "else:\n",
    "    house_age = now.year - train_df1_X['YearBuilt']\n",
    "    train_df1_X['HouseAge'] = now.year - train_df1_X['YearBuilt']\n",
    "train_df1_X = train_df1_X.drop(['YearBuilt', 'YearRemodAdd', 'Diff'], axis=1)"
   ]
  },
  {
   "cell_type": "code",
   "execution_count": 17,
   "metadata": {
    "scrolled": true
   },
   "outputs": [
    {
     "data": {
      "text/plain": [
       "Index(['MSSubClass', 'MSZoning', 'Street', 'Alley', 'LotShape', 'LandContour',\n",
       "       'LotConfig', 'Condition1', 'Condition2', 'BldgType', 'HouseStyle',\n",
       "       'RoofStyle', 'RoofMatl', 'Exterior1st', 'MasVnrType', 'Foundation',\n",
       "       'Heating', 'Electrical', 'Functional', 'GarageType', 'Fence',\n",
       "       'MiscFeature', 'SaleType'],\n",
       "      dtype='object')"
      ]
     },
     "execution_count": 17,
     "metadata": {},
     "output_type": "execute_result"
    }
   ],
   "source": [
    "#Extract all categorical feature ready for encoding\n",
    "train_df1_X.select_dtypes(include=['object']).columns"
   ]
  },
  {
   "cell_type": "code",
   "execution_count": 18,
   "metadata": {},
   "outputs": [
    {
     "data": {
      "text/plain": [
       "Index(['LotFrontage', 'LotArea', 'Neighborhood', 'OverallQual', 'OverallCond',\n",
       "       'MasVnrArea', 'ExterQual', 'ExterCond', 'BsmtQual', 'BsmtCond',\n",
       "       'BsmtExposure', 'BsmtFinType1', 'BsmtFinSF1', 'BsmtFinType2',\n",
       "       'BsmtUnfSF', 'TotalBsmtSF', 'HeatingQC', 'CentralAir', '2ndFlrSF',\n",
       "       'GrLivArea', 'BsmtFullBath', 'FullBath', 'HalfBath', 'BedroomAbvGr',\n",
       "       'KitchenAbvGr', 'KitchenQual', 'Fireplaces', 'FireplaceQu',\n",
       "       'GarageFinish', 'GarageCars', 'GarageQual', 'GarageCond', 'PavedDrive',\n",
       "       'WoodDeckSF', 'OpenPorchSF', 'EnclosedPorch', 'ScreenPorch', 'PoolArea',\n",
       "       'PoolQC', 'HouseAge'],\n",
       "      dtype='object')"
      ]
     },
     "execution_count": 18,
     "metadata": {},
     "output_type": "execute_result"
    }
   ],
   "source": [
    "#Extract all numerical feature ready for encoding\n",
    "train_df1_X.select_dtypes(exclude=['object']).columns"
   ]
  },
  {
   "cell_type": "code",
   "execution_count": 19,
   "metadata": {},
   "outputs": [
    {
     "data": {
      "text/html": [
       "<div>\n",
       "<style scoped>\n",
       "    .dataframe tbody tr th:only-of-type {\n",
       "        vertical-align: middle;\n",
       "    }\n",
       "\n",
       "    .dataframe tbody tr th {\n",
       "        vertical-align: top;\n",
       "    }\n",
       "\n",
       "    .dataframe thead th {\n",
       "        text-align: right;\n",
       "    }\n",
       "</style>\n",
       "<table border=\"1\" class=\"dataframe\">\n",
       "  <thead>\n",
       "    <tr style=\"text-align: right;\">\n",
       "      <th></th>\n",
       "      <th>LotFrontagenorm</th>\n",
       "      <th>LotAreanorm</th>\n",
       "      <th>Neighborhoodnorm</th>\n",
       "      <th>OverallQualnorm</th>\n",
       "      <th>OverallCondnorm</th>\n",
       "      <th>MasVnrAreanorm</th>\n",
       "      <th>ExterQualnorm</th>\n",
       "      <th>ExterCondnorm</th>\n",
       "      <th>BsmtQualnorm</th>\n",
       "      <th>BsmtCondnorm</th>\n",
       "      <th>...</th>\n",
       "      <th>GarageQualnorm</th>\n",
       "      <th>GarageCondnorm</th>\n",
       "      <th>PavedDrivenorm</th>\n",
       "      <th>WoodDeckSFnorm</th>\n",
       "      <th>OpenPorchSFnorm</th>\n",
       "      <th>EnclosedPorchnorm</th>\n",
       "      <th>ScreenPorchnorm</th>\n",
       "      <th>PoolAreanorm</th>\n",
       "      <th>PoolQCnorm</th>\n",
       "      <th>HouseAgenorm</th>\n",
       "    </tr>\n",
       "  </thead>\n",
       "  <tbody>\n",
       "    <tr>\n",
       "      <th>count</th>\n",
       "      <td>1454.000000</td>\n",
       "      <td>1454.000000</td>\n",
       "      <td>1454.000000</td>\n",
       "      <td>1454.000000</td>\n",
       "      <td>1454.000000</td>\n",
       "      <td>1454.000000</td>\n",
       "      <td>1454.000000</td>\n",
       "      <td>1454.000000</td>\n",
       "      <td>1454.000000</td>\n",
       "      <td>1454.000000</td>\n",
       "      <td>...</td>\n",
       "      <td>1454.000000</td>\n",
       "      <td>1454.000000</td>\n",
       "      <td>1454.000000</td>\n",
       "      <td>1454.000000</td>\n",
       "      <td>1454.000000</td>\n",
       "      <td>1454.000000</td>\n",
       "      <td>1454.000000</td>\n",
       "      <td>1454.000000</td>\n",
       "      <td>1454.000000</td>\n",
       "      <td>1454.000000</td>\n",
       "    </tr>\n",
       "    <tr>\n",
       "      <th>mean</th>\n",
       "      <td>0.383446</td>\n",
       "      <td>0.141991</td>\n",
       "      <td>0.449243</td>\n",
       "      <td>0.609560</td>\n",
       "      <td>0.619364</td>\n",
       "      <td>0.064018</td>\n",
       "      <td>0.679092</td>\n",
       "      <td>0.616781</td>\n",
       "      <td>0.697387</td>\n",
       "      <td>0.733666</td>\n",
       "      <td>...</td>\n",
       "      <td>0.561898</td>\n",
       "      <td>0.561623</td>\n",
       "      <td>0.927785</td>\n",
       "      <td>0.109410</td>\n",
       "      <td>0.085103</td>\n",
       "      <td>0.039936</td>\n",
       "      <td>0.031506</td>\n",
       "      <td>0.003306</td>\n",
       "      <td>0.002751</td>\n",
       "      <td>0.502348</td>\n",
       "    </tr>\n",
       "    <tr>\n",
       "      <th>std</th>\n",
       "      <td>0.112508</td>\n",
       "      <td>0.077078</td>\n",
       "      <td>0.244688</td>\n",
       "      <td>0.138115</td>\n",
       "      <td>0.123720</td>\n",
       "      <td>0.112344</td>\n",
       "      <td>0.114666</td>\n",
       "      <td>0.070347</td>\n",
       "      <td>0.175377</td>\n",
       "      <td>0.138320</td>\n",
       "      <td>...</td>\n",
       "      <td>0.144857</td>\n",
       "      <td>0.144213</td>\n",
       "      <td>0.248765</td>\n",
       "      <td>0.145094</td>\n",
       "      <td>0.120717</td>\n",
       "      <td>0.110922</td>\n",
       "      <td>0.116383</td>\n",
       "      <td>0.051846</td>\n",
       "      <td>0.047214</td>\n",
       "      <td>0.294935</td>\n",
       "    </tr>\n",
       "    <tr>\n",
       "      <th>min</th>\n",
       "      <td>0.115385</td>\n",
       "      <td>0.018372</td>\n",
       "      <td>0.100000</td>\n",
       "      <td>0.100000</td>\n",
       "      <td>0.111111</td>\n",
       "      <td>0.000000</td>\n",
       "      <td>0.400000</td>\n",
       "      <td>0.200000</td>\n",
       "      <td>0.000000</td>\n",
       "      <td>0.000000</td>\n",
       "      <td>...</td>\n",
       "      <td>0.000000</td>\n",
       "      <td>0.000000</td>\n",
       "      <td>0.000000</td>\n",
       "      <td>0.000000</td>\n",
       "      <td>0.000000</td>\n",
       "      <td>0.000000</td>\n",
       "      <td>0.000000</td>\n",
       "      <td>0.000000</td>\n",
       "      <td>0.000000</td>\n",
       "      <td>0.142857</td>\n",
       "    </tr>\n",
       "    <tr>\n",
       "      <th>25%</th>\n",
       "      <td>0.329670</td>\n",
       "      <td>0.106503</td>\n",
       "      <td>0.300000</td>\n",
       "      <td>0.500000</td>\n",
       "      <td>0.555556</td>\n",
       "      <td>0.000000</td>\n",
       "      <td>0.600000</td>\n",
       "      <td>0.600000</td>\n",
       "      <td>0.600000</td>\n",
       "      <td>0.750000</td>\n",
       "      <td>...</td>\n",
       "      <td>0.600000</td>\n",
       "      <td>0.600000</td>\n",
       "      <td>1.000000</td>\n",
       "      <td>0.000000</td>\n",
       "      <td>0.000000</td>\n",
       "      <td>0.000000</td>\n",
       "      <td>0.000000</td>\n",
       "      <td>0.000000</td>\n",
       "      <td>0.000000</td>\n",
       "      <td>0.228571</td>\n",
       "    </tr>\n",
       "    <tr>\n",
       "      <th>50%</th>\n",
       "      <td>0.384615</td>\n",
       "      <td>0.133668</td>\n",
       "      <td>0.500000</td>\n",
       "      <td>0.600000</td>\n",
       "      <td>0.555556</td>\n",
       "      <td>0.000000</td>\n",
       "      <td>0.600000</td>\n",
       "      <td>0.600000</td>\n",
       "      <td>0.800000</td>\n",
       "      <td>0.750000</td>\n",
       "      <td>...</td>\n",
       "      <td>0.600000</td>\n",
       "      <td>0.600000</td>\n",
       "      <td>1.000000</td>\n",
       "      <td>0.000000</td>\n",
       "      <td>0.045704</td>\n",
       "      <td>0.000000</td>\n",
       "      <td>0.000000</td>\n",
       "      <td>0.000000</td>\n",
       "      <td>0.000000</td>\n",
       "      <td>0.371429</td>\n",
       "    </tr>\n",
       "    <tr>\n",
       "      <th>75%</th>\n",
       "      <td>0.439560</td>\n",
       "      <td>0.163173</td>\n",
       "      <td>0.500000</td>\n",
       "      <td>0.700000</td>\n",
       "      <td>0.666667</td>\n",
       "      <td>0.102344</td>\n",
       "      <td>0.800000</td>\n",
       "      <td>0.600000</td>\n",
       "      <td>0.800000</td>\n",
       "      <td>0.750000</td>\n",
       "      <td>...</td>\n",
       "      <td>0.600000</td>\n",
       "      <td>0.600000</td>\n",
       "      <td>1.000000</td>\n",
       "      <td>0.196033</td>\n",
       "      <td>0.124314</td>\n",
       "      <td>0.000000</td>\n",
       "      <td>0.000000</td>\n",
       "      <td>0.000000</td>\n",
       "      <td>0.000000</td>\n",
       "      <td>0.757143</td>\n",
       "    </tr>\n",
       "    <tr>\n",
       "      <th>max</th>\n",
       "      <td>1.000000</td>\n",
       "      <td>1.000000</td>\n",
       "      <td>1.000000</td>\n",
       "      <td>1.000000</td>\n",
       "      <td>1.000000</td>\n",
       "      <td>1.000000</td>\n",
       "      <td>1.000000</td>\n",
       "      <td>1.000000</td>\n",
       "      <td>1.000000</td>\n",
       "      <td>1.000000</td>\n",
       "      <td>...</td>\n",
       "      <td>1.000000</td>\n",
       "      <td>1.000000</td>\n",
       "      <td>1.000000</td>\n",
       "      <td>1.000000</td>\n",
       "      <td>1.000000</td>\n",
       "      <td>1.000000</td>\n",
       "      <td>1.000000</td>\n",
       "      <td>1.000000</td>\n",
       "      <td>1.000000</td>\n",
       "      <td>1.000000</td>\n",
       "    </tr>\n",
       "  </tbody>\n",
       "</table>\n",
       "<p>8 rows × 40 columns</p>\n",
       "</div>"
      ],
      "text/plain": [
       "       LotFrontagenorm  LotAreanorm  Neighborhoodnorm  OverallQualnorm  \\\n",
       "count      1454.000000  1454.000000       1454.000000      1454.000000   \n",
       "mean          0.383446     0.141991          0.449243         0.609560   \n",
       "std           0.112508     0.077078          0.244688         0.138115   \n",
       "min           0.115385     0.018372          0.100000         0.100000   \n",
       "25%           0.329670     0.106503          0.300000         0.500000   \n",
       "50%           0.384615     0.133668          0.500000         0.600000   \n",
       "75%           0.439560     0.163173          0.500000         0.700000   \n",
       "max           1.000000     1.000000          1.000000         1.000000   \n",
       "\n",
       "       OverallCondnorm  MasVnrAreanorm  ExterQualnorm  ExterCondnorm  \\\n",
       "count      1454.000000     1454.000000    1454.000000    1454.000000   \n",
       "mean          0.619364        0.064018       0.679092       0.616781   \n",
       "std           0.123720        0.112344       0.114666       0.070347   \n",
       "min           0.111111        0.000000       0.400000       0.200000   \n",
       "25%           0.555556        0.000000       0.600000       0.600000   \n",
       "50%           0.555556        0.000000       0.600000       0.600000   \n",
       "75%           0.666667        0.102344       0.800000       0.600000   \n",
       "max           1.000000        1.000000       1.000000       1.000000   \n",
       "\n",
       "       BsmtQualnorm  BsmtCondnorm  ...  GarageQualnorm  GarageCondnorm  \\\n",
       "count   1454.000000   1454.000000  ...     1454.000000     1454.000000   \n",
       "mean       0.697387      0.733666  ...        0.561898        0.561623   \n",
       "std        0.175377      0.138320  ...        0.144857        0.144213   \n",
       "min        0.000000      0.000000  ...        0.000000        0.000000   \n",
       "25%        0.600000      0.750000  ...        0.600000        0.600000   \n",
       "50%        0.800000      0.750000  ...        0.600000        0.600000   \n",
       "75%        0.800000      0.750000  ...        0.600000        0.600000   \n",
       "max        1.000000      1.000000  ...        1.000000        1.000000   \n",
       "\n",
       "       PavedDrivenorm  WoodDeckSFnorm  OpenPorchSFnorm  EnclosedPorchnorm  \\\n",
       "count     1454.000000     1454.000000      1454.000000        1454.000000   \n",
       "mean         0.927785        0.109410         0.085103           0.039936   \n",
       "std          0.248765        0.145094         0.120717           0.110922   \n",
       "min          0.000000        0.000000         0.000000           0.000000   \n",
       "25%          1.000000        0.000000         0.000000           0.000000   \n",
       "50%          1.000000        0.000000         0.045704           0.000000   \n",
       "75%          1.000000        0.196033         0.124314           0.000000   \n",
       "max          1.000000        1.000000         1.000000           1.000000   \n",
       "\n",
       "       ScreenPorchnorm  PoolAreanorm   PoolQCnorm  HouseAgenorm  \n",
       "count      1454.000000   1454.000000  1454.000000   1454.000000  \n",
       "mean          0.031506      0.003306     0.002751      0.502348  \n",
       "std           0.116383      0.051846     0.047214      0.294935  \n",
       "min           0.000000      0.000000     0.000000      0.142857  \n",
       "25%           0.000000      0.000000     0.000000      0.228571  \n",
       "50%           0.000000      0.000000     0.000000      0.371429  \n",
       "75%           0.000000      0.000000     0.000000      0.757143  \n",
       "max           1.000000      1.000000     1.000000      1.000000  \n",
       "\n",
       "[8 rows x 40 columns]"
      ]
     },
     "execution_count": 19,
     "metadata": {},
     "output_type": "execute_result"
    }
   ],
   "source": [
    "#Normalize numerical data in Training Dataset ready for modeling\n",
    "features = ['LotFrontage', 'LotArea', 'Neighborhood', 'OverallQual', 'OverallCond',\n",
    "       'MasVnrArea', 'ExterQual', 'ExterCond', 'BsmtQual', 'BsmtCond',\n",
    "       'BsmtExposure', 'BsmtFinType1', 'BsmtFinSF1', 'BsmtFinType2',\n",
    "       'BsmtUnfSF', 'TotalBsmtSF', 'HeatingQC', 'CentralAir', '2ndFlrSF',\n",
    "       'GrLivArea', 'BsmtFullBath', 'FullBath', 'HalfBath', 'BedroomAbvGr',\n",
    "       'KitchenAbvGr', 'KitchenQual', 'Fireplaces', 'FireplaceQu',\n",
    "       'GarageFinish', 'GarageCars', 'GarageQual', 'GarageCond', 'PavedDrive',\n",
    "       'WoodDeckSF', 'OpenPorchSF', 'EnclosedPorch', 'ScreenPorch', 'PoolArea',\n",
    "       'PoolQC', 'HouseAge']\n",
    "train_norm = eda_process(train_df1_X)\n",
    "train_norm.normalize(features)\n",
    "train_df1_X = train_df1_X.drop(features, axis=1)\n",
    "train_df1_X.describe()"
   ]
  },
  {
   "cell_type": "code",
   "execution_count": 20,
   "metadata": {},
   "outputs": [
    {
     "data": {
      "text/html": [
       "<div>\n",
       "<style scoped>\n",
       "    .dataframe tbody tr th:only-of-type {\n",
       "        vertical-align: middle;\n",
       "    }\n",
       "\n",
       "    .dataframe tbody tr th {\n",
       "        vertical-align: top;\n",
       "    }\n",
       "\n",
       "    .dataframe thead th {\n",
       "        text-align: right;\n",
       "    }\n",
       "</style>\n",
       "<table border=\"1\" class=\"dataframe\">\n",
       "  <thead>\n",
       "    <tr style=\"text-align: right;\">\n",
       "      <th></th>\n",
       "      <th>LotFrontagenorm</th>\n",
       "      <th>LotAreanorm</th>\n",
       "      <th>Neighborhoodnorm</th>\n",
       "      <th>OverallQualnorm</th>\n",
       "      <th>OverallCondnorm</th>\n",
       "      <th>MasVnrAreanorm</th>\n",
       "      <th>ExterQualnorm</th>\n",
       "      <th>ExterCondnorm</th>\n",
       "      <th>BsmtQualnorm</th>\n",
       "      <th>BsmtCondnorm</th>\n",
       "      <th>...</th>\n",
       "      <th>MiscFeature_TenC</th>\n",
       "      <th>SaleType_COD</th>\n",
       "      <th>SaleType_CWD</th>\n",
       "      <th>SaleType_Con</th>\n",
       "      <th>SaleType_ConLD</th>\n",
       "      <th>SaleType_ConLI</th>\n",
       "      <th>SaleType_ConLw</th>\n",
       "      <th>SaleType_New</th>\n",
       "      <th>SaleType_Oth</th>\n",
       "      <th>SaleType_WD</th>\n",
       "    </tr>\n",
       "  </thead>\n",
       "  <tbody>\n",
       "    <tr>\n",
       "      <th>count</th>\n",
       "      <td>1454.000000</td>\n",
       "      <td>1454.000000</td>\n",
       "      <td>1454.000000</td>\n",
       "      <td>1454.000000</td>\n",
       "      <td>1454.000000</td>\n",
       "      <td>1454.000000</td>\n",
       "      <td>1454.000000</td>\n",
       "      <td>1454.000000</td>\n",
       "      <td>1454.000000</td>\n",
       "      <td>1454.000000</td>\n",
       "      <td>...</td>\n",
       "      <td>1454.000000</td>\n",
       "      <td>1454.000000</td>\n",
       "      <td>1454.000000</td>\n",
       "      <td>1454.000000</td>\n",
       "      <td>1454.000000</td>\n",
       "      <td>1454.000000</td>\n",
       "      <td>1454.000000</td>\n",
       "      <td>1454.000000</td>\n",
       "      <td>1454.000000</td>\n",
       "      <td>1454.000000</td>\n",
       "    </tr>\n",
       "    <tr>\n",
       "      <th>mean</th>\n",
       "      <td>0.383446</td>\n",
       "      <td>0.141991</td>\n",
       "      <td>0.449243</td>\n",
       "      <td>0.609560</td>\n",
       "      <td>0.619364</td>\n",
       "      <td>0.064018</td>\n",
       "      <td>0.679092</td>\n",
       "      <td>0.616781</td>\n",
       "      <td>0.697387</td>\n",
       "      <td>0.733666</td>\n",
       "      <td>...</td>\n",
       "      <td>0.000688</td>\n",
       "      <td>0.029574</td>\n",
       "      <td>0.002751</td>\n",
       "      <td>0.001376</td>\n",
       "      <td>0.006190</td>\n",
       "      <td>0.003439</td>\n",
       "      <td>0.003439</td>\n",
       "      <td>0.083219</td>\n",
       "      <td>0.002063</td>\n",
       "      <td>0.867950</td>\n",
       "    </tr>\n",
       "    <tr>\n",
       "      <th>std</th>\n",
       "      <td>0.112508</td>\n",
       "      <td>0.077078</td>\n",
       "      <td>0.244688</td>\n",
       "      <td>0.138115</td>\n",
       "      <td>0.123720</td>\n",
       "      <td>0.112344</td>\n",
       "      <td>0.114666</td>\n",
       "      <td>0.070347</td>\n",
       "      <td>0.175377</td>\n",
       "      <td>0.138320</td>\n",
       "      <td>...</td>\n",
       "      <td>0.026225</td>\n",
       "      <td>0.169466</td>\n",
       "      <td>0.052396</td>\n",
       "      <td>0.037075</td>\n",
       "      <td>0.078459</td>\n",
       "      <td>0.058560</td>\n",
       "      <td>0.058560</td>\n",
       "      <td>0.276308</td>\n",
       "      <td>0.045392</td>\n",
       "      <td>0.338661</td>\n",
       "    </tr>\n",
       "    <tr>\n",
       "      <th>min</th>\n",
       "      <td>0.115385</td>\n",
       "      <td>0.018372</td>\n",
       "      <td>0.100000</td>\n",
       "      <td>0.100000</td>\n",
       "      <td>0.111111</td>\n",
       "      <td>0.000000</td>\n",
       "      <td>0.400000</td>\n",
       "      <td>0.200000</td>\n",
       "      <td>0.000000</td>\n",
       "      <td>0.000000</td>\n",
       "      <td>...</td>\n",
       "      <td>0.000000</td>\n",
       "      <td>0.000000</td>\n",
       "      <td>0.000000</td>\n",
       "      <td>0.000000</td>\n",
       "      <td>0.000000</td>\n",
       "      <td>0.000000</td>\n",
       "      <td>0.000000</td>\n",
       "      <td>0.000000</td>\n",
       "      <td>0.000000</td>\n",
       "      <td>0.000000</td>\n",
       "    </tr>\n",
       "    <tr>\n",
       "      <th>25%</th>\n",
       "      <td>0.329670</td>\n",
       "      <td>0.106503</td>\n",
       "      <td>0.300000</td>\n",
       "      <td>0.500000</td>\n",
       "      <td>0.555556</td>\n",
       "      <td>0.000000</td>\n",
       "      <td>0.600000</td>\n",
       "      <td>0.600000</td>\n",
       "      <td>0.600000</td>\n",
       "      <td>0.750000</td>\n",
       "      <td>...</td>\n",
       "      <td>0.000000</td>\n",
       "      <td>0.000000</td>\n",
       "      <td>0.000000</td>\n",
       "      <td>0.000000</td>\n",
       "      <td>0.000000</td>\n",
       "      <td>0.000000</td>\n",
       "      <td>0.000000</td>\n",
       "      <td>0.000000</td>\n",
       "      <td>0.000000</td>\n",
       "      <td>1.000000</td>\n",
       "    </tr>\n",
       "    <tr>\n",
       "      <th>50%</th>\n",
       "      <td>0.384615</td>\n",
       "      <td>0.133668</td>\n",
       "      <td>0.500000</td>\n",
       "      <td>0.600000</td>\n",
       "      <td>0.555556</td>\n",
       "      <td>0.000000</td>\n",
       "      <td>0.600000</td>\n",
       "      <td>0.600000</td>\n",
       "      <td>0.800000</td>\n",
       "      <td>0.750000</td>\n",
       "      <td>...</td>\n",
       "      <td>0.000000</td>\n",
       "      <td>0.000000</td>\n",
       "      <td>0.000000</td>\n",
       "      <td>0.000000</td>\n",
       "      <td>0.000000</td>\n",
       "      <td>0.000000</td>\n",
       "      <td>0.000000</td>\n",
       "      <td>0.000000</td>\n",
       "      <td>0.000000</td>\n",
       "      <td>1.000000</td>\n",
       "    </tr>\n",
       "    <tr>\n",
       "      <th>75%</th>\n",
       "      <td>0.439560</td>\n",
       "      <td>0.163173</td>\n",
       "      <td>0.500000</td>\n",
       "      <td>0.700000</td>\n",
       "      <td>0.666667</td>\n",
       "      <td>0.102344</td>\n",
       "      <td>0.800000</td>\n",
       "      <td>0.600000</td>\n",
       "      <td>0.800000</td>\n",
       "      <td>0.750000</td>\n",
       "      <td>...</td>\n",
       "      <td>0.000000</td>\n",
       "      <td>0.000000</td>\n",
       "      <td>0.000000</td>\n",
       "      <td>0.000000</td>\n",
       "      <td>0.000000</td>\n",
       "      <td>0.000000</td>\n",
       "      <td>0.000000</td>\n",
       "      <td>0.000000</td>\n",
       "      <td>0.000000</td>\n",
       "      <td>1.000000</td>\n",
       "    </tr>\n",
       "    <tr>\n",
       "      <th>max</th>\n",
       "      <td>1.000000</td>\n",
       "      <td>1.000000</td>\n",
       "      <td>1.000000</td>\n",
       "      <td>1.000000</td>\n",
       "      <td>1.000000</td>\n",
       "      <td>1.000000</td>\n",
       "      <td>1.000000</td>\n",
       "      <td>1.000000</td>\n",
       "      <td>1.000000</td>\n",
       "      <td>1.000000</td>\n",
       "      <td>...</td>\n",
       "      <td>1.000000</td>\n",
       "      <td>1.000000</td>\n",
       "      <td>1.000000</td>\n",
       "      <td>1.000000</td>\n",
       "      <td>1.000000</td>\n",
       "      <td>1.000000</td>\n",
       "      <td>1.000000</td>\n",
       "      <td>1.000000</td>\n",
       "      <td>1.000000</td>\n",
       "      <td>1.000000</td>\n",
       "    </tr>\n",
       "  </tbody>\n",
       "</table>\n",
       "<p>8 rows × 190 columns</p>\n",
       "</div>"
      ],
      "text/plain": [
       "       LotFrontagenorm  LotAreanorm  Neighborhoodnorm  OverallQualnorm  \\\n",
       "count      1454.000000  1454.000000       1454.000000      1454.000000   \n",
       "mean          0.383446     0.141991          0.449243         0.609560   \n",
       "std           0.112508     0.077078          0.244688         0.138115   \n",
       "min           0.115385     0.018372          0.100000         0.100000   \n",
       "25%           0.329670     0.106503          0.300000         0.500000   \n",
       "50%           0.384615     0.133668          0.500000         0.600000   \n",
       "75%           0.439560     0.163173          0.500000         0.700000   \n",
       "max           1.000000     1.000000          1.000000         1.000000   \n",
       "\n",
       "       OverallCondnorm  MasVnrAreanorm  ExterQualnorm  ExterCondnorm  \\\n",
       "count      1454.000000     1454.000000    1454.000000    1454.000000   \n",
       "mean          0.619364        0.064018       0.679092       0.616781   \n",
       "std           0.123720        0.112344       0.114666       0.070347   \n",
       "min           0.111111        0.000000       0.400000       0.200000   \n",
       "25%           0.555556        0.000000       0.600000       0.600000   \n",
       "50%           0.555556        0.000000       0.600000       0.600000   \n",
       "75%           0.666667        0.102344       0.800000       0.600000   \n",
       "max           1.000000        1.000000       1.000000       1.000000   \n",
       "\n",
       "       BsmtQualnorm  BsmtCondnorm  ...  MiscFeature_TenC  SaleType_COD  \\\n",
       "count   1454.000000   1454.000000  ...       1454.000000   1454.000000   \n",
       "mean       0.697387      0.733666  ...          0.000688      0.029574   \n",
       "std        0.175377      0.138320  ...          0.026225      0.169466   \n",
       "min        0.000000      0.000000  ...          0.000000      0.000000   \n",
       "25%        0.600000      0.750000  ...          0.000000      0.000000   \n",
       "50%        0.800000      0.750000  ...          0.000000      0.000000   \n",
       "75%        0.800000      0.750000  ...          0.000000      0.000000   \n",
       "max        1.000000      1.000000  ...          1.000000      1.000000   \n",
       "\n",
       "       SaleType_CWD  SaleType_Con  SaleType_ConLD  SaleType_ConLI  \\\n",
       "count   1454.000000   1454.000000     1454.000000     1454.000000   \n",
       "mean       0.002751      0.001376        0.006190        0.003439   \n",
       "std        0.052396      0.037075        0.078459        0.058560   \n",
       "min        0.000000      0.000000        0.000000        0.000000   \n",
       "25%        0.000000      0.000000        0.000000        0.000000   \n",
       "50%        0.000000      0.000000        0.000000        0.000000   \n",
       "75%        0.000000      0.000000        0.000000        0.000000   \n",
       "max        1.000000      1.000000        1.000000        1.000000   \n",
       "\n",
       "       SaleType_ConLw  SaleType_New  SaleType_Oth  SaleType_WD  \n",
       "count     1454.000000   1454.000000   1454.000000  1454.000000  \n",
       "mean         0.003439      0.083219      0.002063     0.867950  \n",
       "std          0.058560      0.276308      0.045392     0.338661  \n",
       "min          0.000000      0.000000      0.000000     0.000000  \n",
       "25%          0.000000      0.000000      0.000000     1.000000  \n",
       "50%          0.000000      0.000000      0.000000     1.000000  \n",
       "75%          0.000000      0.000000      0.000000     1.000000  \n",
       "max          1.000000      1.000000      1.000000     1.000000  \n",
       "\n",
       "[8 rows x 190 columns]"
      ]
     },
     "execution_count": 20,
     "metadata": {},
     "output_type": "execute_result"
    }
   ],
   "source": [
    "#Encode categorical features\n",
    "cat_variables = ['MSSubClass', 'MSZoning', 'Street', 'Alley', 'LotShape', 'LandContour',\n",
    "       'LotConfig', 'Condition1', 'Condition2', 'BldgType', 'HouseStyle',\n",
    "       'RoofStyle', 'RoofMatl', 'Exterior1st', 'MasVnrType', 'Foundation',\n",
    "       'Heating', 'Electrical', 'Functional', 'GarageType', 'Fence',\n",
    "       'MiscFeature', 'SaleType']\n",
    "\n",
    "for var in cat_variables:\n",
    "    dummies = pd.get_dummies(train_df1_X[var], prefix=var)\n",
    "    train_df1_X = pd.concat([train_df1_X, dummies], axis=1)\n",
    "    train_df1_X.drop([var], axis=1, inplace=True)\n",
    "train_df1_X.describe()"
   ]
  },
  {
   "cell_type": "code",
   "execution_count": 21,
   "metadata": {},
   "outputs": [],
   "source": [
    "#Split training data\n",
    "X1_train, X1_test, y1_train, y1_test = train_test_split(train_df1_X, train_df_logY, test_size=0.20, random_state=5)"
   ]
  },
  {
   "cell_type": "markdown",
   "metadata": {
    "colab_type": "text",
    "id": "Q9RVcYnoQleI"
   },
   "source": [
    "### 3.4 Models Hyperparameter tuning"
   ]
  },
  {
   "cell_type": "markdown",
   "metadata": {
    "colab_type": "text",
    "id": "ynW6sQjqQlc-"
   },
   "source": [
    "3.4.1 Lasso Model Hyperparameter tuning"
   ]
  },
  {
   "cell_type": "code",
   "execution_count": 22,
   "metadata": {},
   "outputs": [
    {
     "name": "stdout",
     "output_type": "stream",
     "text": [
      "{'alpha': 0.001}\n",
      "-0.08653662973766947\n"
     ]
    }
   ],
   "source": [
    "lasso_params = {'alpha':[1e-3, 1e-2, 1, 2, 5, 7, 10]}\n",
    "\n",
    "model = GridSearchCV(Lasso(), lasso_params, scoring='neg_mean_absolute_error')\n",
    "model.fit(X1_train, y1_train)\n",
    "\n",
    "print(model.best_params_)\n",
    "print(model.best_score_)"
   ]
  },
  {
   "cell_type": "markdown",
   "metadata": {
    "colab_type": "text",
    "id": "ynW6sQjqQlc-"
   },
   "source": [
    "3.4.2 Ridge Model Hyperparameter tuning"
   ]
  },
  {
   "cell_type": "code",
   "execution_count": 23,
   "metadata": {},
   "outputs": [
    {
     "name": "stdout",
     "output_type": "stream",
     "text": [
      "{'alpha': 1}\n",
      "-0.0890593394164932\n"
     ]
    }
   ],
   "source": [
    "ridge_params = {'alpha':[1e-3, 1e-2, 1, 2, 5, 7, 10, 20, 30, 40]}\n",
    "\n",
    "model = GridSearchCV(Ridge(), ridge_params, scoring='neg_mean_absolute_error')\n",
    "model.fit(X1_train, y1_train)\n",
    "\n",
    "print(model.best_params_)\n",
    "print(model.best_score_)"
   ]
  },
  {
   "cell_type": "markdown",
   "metadata": {
    "colab_type": "text",
    "id": "ynW6sQjqQlc-"
   },
   "source": [
    "3.4.3 Random Forest Model Hyperparameter tuning"
   ]
  },
  {
   "cell_type": "code",
   "execution_count": 24,
   "metadata": {
    "colab": {},
    "colab_type": "code",
    "id": "D_QwiY7R9xzF"
   },
   "outputs": [
    {
     "name": "stdout",
     "output_type": "stream",
     "text": [
      "Model Performance\n",
      "Average Error: 0.0898 degrees.\n",
      "Accuracy = 99.25%.\n"
     ]
    }
   ],
   "source": [
    "def evaluate(model, test_features, test_labels):\n",
    "    predictions = model.predict(test_features)\n",
    "    errors = abs(predictions - test_labels)\n",
    "    mape = 100 * np.mean(errors / test_labels)\n",
    "    accuracy = 100 - mape\n",
    "    print('Model Performance')\n",
    "    print('Average Error: {:0.4f} degrees.'.format(np.mean(errors)))\n",
    "    print('Accuracy = {:0.2f}%.'.format(accuracy))\n",
    "    \n",
    "    return accuracy\n",
    "base_model = rfregr(n_estimators = 100, random_state = 42)\n",
    "base_model.fit(X1_train, y1_train)\n",
    "base_accuracy = evaluate(base_model, X1_test, y1_test)"
   ]
  },
  {
   "cell_type": "code",
   "execution_count": 25,
   "metadata": {},
   "outputs": [],
   "source": [
    "# Create the parameter grid based on the results of random search \n",
    "param_grid = {\n",
    "    'bootstrap': [True],\n",
    "    'max_depth': [40, 50, 60, 70, 80, 100],\n",
    "    'max_features': [\"auto\", None, \"sqrt\", \"log2\"],\n",
    "    'min_samples_leaf': [1, 2, 3, 4, 5],\n",
    "    'min_samples_split': [10, 20, 30, 40, 50],\n",
    "    'n_estimators': [400, 600, 800, 1000]\n",
    "}\n",
    "# Create a based model\n",
    "base_rf = rfregr()\n",
    "# Instantiate the grid search model\n",
    "grid_search = GridSearchCV(estimator = base_rf, param_grid = param_grid, \n",
    "                          cv = 3, n_jobs = -1, verbose = 2)"
   ]
  },
  {
   "cell_type": "code",
   "execution_count": 26,
   "metadata": {},
   "outputs": [
    {
     "name": "stdout",
     "output_type": "stream",
     "text": [
      "Fitting 3 folds for each of 2400 candidates, totalling 7200 fits\n"
     ]
    },
    {
     "name": "stderr",
     "output_type": "stream",
     "text": [
      "[Parallel(n_jobs=-1)]: Using backend LokyBackend with 4 concurrent workers.\n",
      "[Parallel(n_jobs=-1)]: Done  33 tasks      | elapsed:  3.0min\n",
      "[Parallel(n_jobs=-1)]: Done 154 tasks      | elapsed: 11.2min\n",
      "[Parallel(n_jobs=-1)]: Done 357 tasks      | elapsed: 24.7min\n",
      "[Parallel(n_jobs=-1)]: Done 640 tasks      | elapsed: 41.1min\n",
      "[Parallel(n_jobs=-1)]: Done 1005 tasks      | elapsed: 49.3min\n",
      "[Parallel(n_jobs=-1)]: Done 1450 tasks      | elapsed: 70.2min\n",
      "[Parallel(n_jobs=-1)]: Done 1977 tasks      | elapsed: 98.4min\n",
      "[Parallel(n_jobs=-1)]: Done 2584 tasks      | elapsed: 118.3min\n",
      "[Parallel(n_jobs=-1)]: Done 3273 tasks      | elapsed: 152.6min\n",
      "[Parallel(n_jobs=-1)]: Done 4042 tasks      | elapsed: 184.7min\n",
      "[Parallel(n_jobs=-1)]: Done 4893 tasks      | elapsed: 206.9min\n",
      "[Parallel(n_jobs=-1)]: Done 5824 tasks      | elapsed: 239.0min\n",
      "[Parallel(n_jobs=-1)]: Done 6837 tasks      | elapsed: 276.6min\n",
      "[Parallel(n_jobs=-1)]: Done 7200 out of 7200 | elapsed: 282.3min finished\n"
     ]
    },
    {
     "data": {
      "text/plain": [
       "{'bootstrap': True,\n",
       " 'max_depth': 70,\n",
       " 'max_features': 'auto',\n",
       " 'min_samples_leaf': 3,\n",
       " 'min_samples_split': 10,\n",
       " 'n_estimators': 400}"
      ]
     },
     "execution_count": 26,
     "metadata": {},
     "output_type": "execute_result"
    }
   ],
   "source": [
    "# Fit the grid search to the data\n",
    "grid_search.fit(X1_train, y1_train)\n",
    "grid_search.best_params_"
   ]
  },
  {
   "cell_type": "code",
   "execution_count": 28,
   "metadata": {},
   "outputs": [
    {
     "name": "stdout",
     "output_type": "stream",
     "text": [
      "Model Performance\n",
      "Average Error: 0.0889 degrees.\n",
      "Accuracy = 99.25%.\n",
      "Improvement of 0.01%.\n"
     ]
    }
   ],
   "source": [
    "best_grid = grid_search.best_estimator_\n",
    "grid_accuracy = evaluate(best_grid, X1_test, y1_test)\n",
    "print('Improvement of {:0.2f}%.'.format( 100 * (grid_accuracy - base_accuracy) / base_accuracy))"
   ]
  },
  {
   "cell_type": "markdown",
   "metadata": {
    "colab_type": "text",
    "id": "ynW6sQjqQlc-"
   },
   "source": [
    "3.4.4 Gradient Boost Model Hyperparameter tuning"
   ]
  },
  {
   "cell_type": "code",
   "execution_count": 32,
   "metadata": {
    "colab": {},
    "colab_type": "code",
    "id": "v44G8uM7Qlen"
   },
   "outputs": [],
   "source": [
    "def select_params(X1_train, y1_train, X1_test, y1_test, max_estimators=1000, max_depth = 3, learning_rate=0.01, min_samples_leaf=20):\n",
    "\n",
    "    #feature_train, feature_tune, target_train, target_tune = train_test_split(model_data[features], model_data['salary'], test_size=0.33, random_state=0, shuffle=True)\n",
    "    \n",
    "    gbm = grbregr(n_estimators = max_estimators, learning_rate=learning_rate, \n",
    "                                    max_depth=max_depth, loss='ls', subsample=1.0, min_samples_leaf=min_samples_leaf)\n",
    "\n",
    "    gbm.fit(X1_train, y1_train)\n",
    "\n",
    "    test_score = np.zeros(max_estimators)\n",
    "\n",
    "    for i, y_pred in enumerate(gbm.staged_predict(X1_test)):\n",
    "        test_score[i] = mae(y1_test, y_pred)\n",
    "        \n",
    "    print('optimal number of trees: {0}'.format(test_score.argmin()))\n",
    "    print('best MSE: {0}'.format(test_score.min()))\n",
    "    # print('baseline MAE: {0}'.format(mse(target_tune, target_train.median())))\n",
    "    pd.Series(test_score).plot(title='learning curve for max_depth = {0}'.format(max_depth))\n",
    "    plt.show()"
   ]
  },
  {
   "cell_type": "code",
   "execution_count": 35,
   "metadata": {
    "colab": {},
    "colab_type": "code",
    "id": "13pMxltgQler",
    "scrolled": false
   },
   "outputs": [
    {
     "name": "stdout",
     "output_type": "stream",
     "text": [
      "***** training for max depth = 6 *****\n",
      "optimal number of trees: 39\n",
      "best MSE: 0.08727254507725567\n"
     ]
    },
    {
     "data": {
      "image/png": "[encoded data removed]",
      "text/plain": [
       "<Figure size 432x288 with 1 Axes>"
      ]
     },
     "metadata": {},
     "output_type": "display_data"
    },
    {
     "name": "stdout",
     "output_type": "stream",
     "text": [
      "***** training for max depth = 8 *****\n",
      "optimal number of trees: 36\n",
      "best MSE: 0.08669379667980764\n"
     ]
    },
    {
     "data": {
      "image/png": "[encoded data removed]",
      "text/plain": [
       "<Figure size 432x288 with 1 Axes>"
      ]
     },
     "metadata": {},
     "output_type": "display_data"
    },
    {
     "name": "stdout",
     "output_type": "stream",
     "text": [
      "***** training for max depth = 10 *****\n",
      "optimal number of trees: 32\n",
      "best MSE: 0.08787874795668779\n"
     ]
    },
    {
     "data": {
      "image/png": "[encoded data removed]",
      "text/plain": [
       "<Figure size 432x288 with 1 Axes>"
      ]
     },
     "metadata": {},
     "output_type": "display_data"
    }
   ],
   "source": [
    "for depth in [6, 8, 10]:\n",
    "    print('***** training for max depth = {0} *****'.format(depth))\n",
    "    select_params(X1_train, y1_train, X1_test, y1_test, max_estimators=40, max_depth=depth, learning_rate=0.1)"
   ]
  },
  {
   "cell_type": "markdown",
   "metadata": {
    "colab_type": "text",
    "id": "fI1PS7oqQlex"
   },
   "source": [
    "Max Depth of 8 computes best MAE, next we tune for Max Estimator."
   ]
  },
  {
   "cell_type": "code",
   "execution_count": 39,
   "metadata": {
    "colab": {},
    "colab_type": "code",
    "id": "6kEg7vIyQley",
    "scrolled": false
   },
   "outputs": [
    {
     "name": "stdout",
     "output_type": "stream",
     "text": [
      "***** training for max estimators = 100 *****\n",
      "optimal number of trees: 90\n",
      "best MSE: 0.08658447311251459\n"
     ]
    },
    {
     "data": {
      "image/png": "[encoded data removed]",
      "text/plain": [
       "<Figure size 432x288 with 1 Axes>"
      ]
     },
     "metadata": {},
     "output_type": "display_data"
    },
    {
     "name": "stdout",
     "output_type": "stream",
     "text": [
      "***** training for max estimators = 200 *****\n",
      "optimal number of trees: 194\n",
      "best MSE: 0.08644169496259235\n"
     ]
    },
    {
     "data": {
      "image/png": "[encoded data removed]",
      "text/plain": [
       "<Figure size 432x288 with 1 Axes>"
      ]
     },
     "metadata": {},
     "output_type": "display_data"
    },
    {
     "name": "stdout",
     "output_type": "stream",
     "text": [
      "***** training for max estimators = 300 *****\n",
      "optimal number of trees: 194\n",
      "best MSE: 0.08641760270280557\n"
     ]
    },
    {
     "data": {
      "image/png": "[encoded data removed]",
      "text/plain": [
       "<Figure size 432x288 with 1 Axes>"
      ]
     },
     "metadata": {},
     "output_type": "display_data"
    },
    {
     "name": "stdout",
     "output_type": "stream",
     "text": [
      "***** training for max estimators = 400 *****\n",
      "optimal number of trees: 194\n",
      "best MSE: 0.08643731986771473\n"
     ]
    },
    {
     "data": {
      "image/png": "[encoded data removed]",
      "text/plain": [
       "<Figure size 432x288 with 1 Axes>"
      ]
     },
     "metadata": {},
     "output_type": "display_data"
    }
   ],
   "source": [
    "for max_e in [100, 200, 300, 400]:\n",
    "    print('***** training for max estimators = {0} *****'.format(max_e))\n",
    "    select_params(X1_train, y1_train, X1_test, y1_test, max_estimators=max_e, max_depth=8, learning_rate=0.1)"
   ]
  },
  {
   "cell_type": "markdown",
   "metadata": {
    "colab_type": "text",
    "id": "fI1PS7oqQlex"
   },
   "source": [
    "Max Estimator of 300 computes best MAE, next we tune for learning rate."
   ]
  },
  {
   "cell_type": "code",
   "execution_count": 42,
   "metadata": {
    "colab": {},
    "colab_type": "code",
    "id": "6kEg7vIyQley",
    "scrolled": false
   },
   "outputs": [
    {
     "name": "stdout",
     "output_type": "stream",
     "text": [
      "***** training for learning_rate = 0.02 *****\n",
      "optimal number of trees: 181\n",
      "best MSE: 0.08516325725030283\n"
     ]
    },
    {
     "data": {
      "image/png": "[encoded data removed]",
      "text/plain": [
       "<Figure size 432x288 with 1 Axes>"
      ]
     },
     "metadata": {},
     "output_type": "display_data"
    },
    {
     "name": "stdout",
     "output_type": "stream",
     "text": [
      "***** training for learning_rate = 0.03 *****\n",
      "optimal number of trees: 293\n",
      "best MSE: 0.08445191573272351\n"
     ]
    },
    {
     "data": {
      "image/png": "[encoded data removed]",
      "text/plain": [
       "<Figure size 432x288 with 1 Axes>"
      ]
     },
     "metadata": {},
     "output_type": "display_data"
    },
    {
     "name": "stdout",
     "output_type": "stream",
     "text": [
      "***** training for learning_rate = 0.05 *****\n",
      "optimal number of trees: 297\n",
      "best MSE: 0.08386167061592563\n"
     ]
    },
    {
     "data": {
      "image/png": "[encoded data removed]",
      "text/plain": [
       "<Figure size 432x288 with 1 Axes>"
      ]
     },
     "metadata": {},
     "output_type": "display_data"
    },
    {
     "name": "stdout",
     "output_type": "stream",
     "text": [
      "***** training for learning_rate = 0.07 *****\n",
      "optimal number of trees: 282\n",
      "best MSE: 0.0847959205412691\n"
     ]
    },
    {
     "data": {
      "image/png": "[encoded data removed]",
      "text/plain": [
       "<Figure size 432x288 with 1 Axes>"
      ]
     },
     "metadata": {},
     "output_type": "display_data"
    }
   ],
   "source": [
    "for learn_rate in [0.02, 0.03, 0.05, 0.07]:\n",
    "    print('***** training for learning_rate = {0} *****'.format(learn_rate))\n",
    "    select_params(X1_train, y1_train, X1_test, y1_test, max_estimators=300, max_depth=8, learning_rate=learn_rate)"
   ]
  },
  {
   "cell_type": "markdown",
   "metadata": {
    "colab_type": "text",
    "id": "fI1PS7oqQlex"
   },
   "source": [
    "Learning rate of 0.05 computes best MAE."
   ]
  },
  {
   "cell_type": "code",
   "execution_count": 45,
   "metadata": {
    "colab": {},
    "colab_type": "code",
    "id": "6kEg7vIyQley",
    "scrolled": false
   },
   "outputs": [
    {
     "name": "stdout",
     "output_type": "stream",
     "text": [
      "***** training for min_sample_leaf = 20 *****\n",
      "optimal number of trees: 297\n",
      "best MSE: 0.08384178014913865\n"
     ]
    },
    {
     "data": {
      "image/png": "[encoded data removed]",
      "text/plain": [
       "<Figure size 432x288 with 1 Axes>"
      ]
     },
     "metadata": {},
     "output_type": "display_data"
    },
    {
     "name": "stdout",
     "output_type": "stream",
     "text": [
      "***** training for min_sample_leaf = 22 *****\n",
      "optimal number of trees: 241\n",
      "best MSE: 0.08440496931054643\n"
     ]
    },
    {
     "data": {
      "image/png": "[encoded data removed]",
      "text/plain": [
       "<Figure size 432x288 with 1 Axes>"
      ]
     },
     "metadata": {},
     "output_type": "display_data"
    },
    {
     "name": "stdout",
     "output_type": "stream",
     "text": [
      "***** training for min_sample_leaf = 24 *****\n",
      "optimal number of trees: 150\n",
      "best MSE: 0.08223074498062159\n"
     ]
    },
    {
     "data": {
      "image/png": "[encoded data removed]",
      "text/plain": [
       "<Figure size 432x288 with 1 Axes>"
      ]
     },
     "metadata": {},
     "output_type": "display_data"
    },
    {
     "name": "stdout",
     "output_type": "stream",
     "text": [
      "***** training for min_sample_leaf = 26 *****\n",
      "optimal number of trees: 162\n",
      "best MSE: 0.08233837779764731\n"
     ]
    },
    {
     "data": {
      "image/png": "[encoded data removed]",
      "text/plain": [
       "<Figure size 432x288 with 1 Axes>"
      ]
     },
     "metadata": {},
     "output_type": "display_data"
    },
    {
     "name": "stdout",
     "output_type": "stream",
     "text": [
      "***** training for min_sample_leaf = 28 *****\n",
      "optimal number of trees: 173\n",
      "best MSE: 0.0827344437492941\n"
     ]
    },
    {
     "data": {
      "image/png": "[encoded data removed]",
      "text/plain": [
       "<Figure size 432x288 with 1 Axes>"
      ]
     },
     "metadata": {},
     "output_type": "display_data"
    }
   ],
   "source": [
    "for msl in [20, 22, 24, 26, 28]:\n",
    "    print('***** training for min_sample_leaf = {0} *****'.format(msl))\n",
    "    select_params(X1_train, y1_train, X1_test, y1_test, max_estimators=300, max_depth=8, learning_rate=0.05, min_samples_leaf=msl)"
   ]
  },
  {
   "cell_type": "markdown",
   "metadata": {
    "colab_type": "text",
    "id": "fI1PS7oqQlex"
   },
   "source": [
    "Minimum Sample Leaf  of 24 computes best MAE."
   ]
  },
  {
   "cell_type": "markdown",
   "metadata": {
    "colab_type": "text",
    "id": "CnviDw1fQle2"
   },
   "source": [
    "### 3.5 Models Evaluation"
   ]
  },
  {
   "cell_type": "markdown",
   "metadata": {
    "colab_type": "text",
    "id": "OIaR3OJPQlel"
   },
   "source": [
    "3.5.1 Compile the selected models for evaluation"
   ]
  },
  {
   "cell_type": "code",
   "execution_count": 22,
   "metadata": {
    "colab": {
     "base_uri": "https://localhost:8080/",
     "height": 292
    },
    "colab_type": "code",
    "executionInfo": {
     "elapsed": 848,
     "status": "ok",
     "timestamp": 1599660755465,
     "user": {
      "displayName": "Dapo Laniya",
      "photoUrl": "",
      "userId": "07293732013348809745"
     },
     "user_tz": 240
    },
    "id": "HcC8UN-OUNfx",
    "outputId": "a5f4a0df-49d8-48ed-bf42-9ad2c4935e32"
   },
   "outputs": [
    {
     "name": "stdout",
     "output_type": "stream",
     "text": [
      "[('Lasso', Lasso(alpha=0.001, random_state=5)), ('RandomForest', RandomForestRegressor(max_depth=70, min_samples_leaf=3, min_samples_split=10,\n",
      "                      n_estimators=400, random_state=5)), ('GradientBoosting', GradientBoostingRegressor(learning_rate=0.05, max_depth=8, min_samples_leaf=24,\n",
      "                          n_estimators=300, random_state=5)), ('Ridge', Ridge(alpha=1, random_state=5))]\n"
     ]
    }
   ],
   "source": [
    "# create models\n",
    "models_eval_hp = []\n",
    "#models_eval_hp.append(('LinearRegression', lr()))\n",
    "models_eval_hp.append(('Lasso', Lasso(alpha=0.001, random_state=5)))\n",
    "models_eval_hp.append(('RandomForest', rfregr(random_state=5, n_estimators=400, max_depth=70, min_samples_split=10, max_features='auto', min_samples_leaf=3, bootstrap=True)))\n",
    "models_eval_hp.append(('GradientBoosting', grbregr(n_estimators=300, learning_rate=0.05, max_depth=8, min_samples_split=2, min_samples_leaf=24, random_state=5)))\n",
    "models_eval_hp.append(('Ridge', Ridge(alpha=1, random_state=5)))\n",
    "                   \n",
    "print(models_eval_hp)"
   ]
  },
  {
   "cell_type": "markdown",
   "metadata": {
    "colab_type": "text",
    "id": "OIaR3OJPQlel"
   },
   "source": [
    "3.5.2 This function is to evaluate the models using the cross validation technique on the split feature training data"
   ]
  },
  {
   "cell_type": "code",
   "execution_count": 23,
   "metadata": {},
   "outputs": [
    {
     "name": "stderr",
     "output_type": "stream",
     "text": [
      " 25%|██▌       | 1/4 [00:00<00:01,  1.91it/s]"
     ]
    },
    {
     "name": "stdout",
     "output_type": "stream",
     "text": [
      "Lasso: 0.086537 (0.007437)\n"
     ]
    },
    {
     "name": "stderr",
     "output_type": "stream",
     "text": [
      "\r",
      " 50%|█████     | 2/4 [00:45<00:27, 13.94s/it]"
     ]
    },
    {
     "name": "stdout",
     "output_type": "stream",
     "text": [
      "RandomForest: 0.099186 (0.006133)\n"
     ]
    },
    {
     "name": "stderr",
     "output_type": "stream",
     "text": [
      "100%|██████████| 4/4 [01:10<00:00, 17.73s/it]"
     ]
    },
    {
     "name": "stdout",
     "output_type": "stream",
     "text": [
      "GradientBoosting: 0.090131 (0.006795)\n",
      "Ridge: 0.089059 (0.008539)\n"
     ]
    },
    {
     "name": "stderr",
     "output_type": "stream",
     "text": [
      "\n"
     ]
    },
    {
     "data": {
      "image/png": "[encoded data removed]",
      "text/plain": [
       "<Figure size 1080x504 with 1 Axes>"
      ]
     },
     "metadata": {
      "needs_background": "light"
     },
     "output_type": "display_data"
    }
   ],
   "source": [
    "kfold = model(X1_train, X1_test, y1_train, y1_test)\n",
    "kfold.cross_fold_val(models_eval_hp)"
   ]
  },
  {
   "cell_type": "markdown",
   "metadata": {
    "colab_type": "text",
    "id": "b2ondm4kQlfy"
   },
   "source": [
    "### 3.6 Models Testing"
   ]
  },
  {
   "cell_type": "markdown",
   "metadata": {
    "colab_type": "text",
    "id": "OIaR3OJPQlel"
   },
   "source": [
    "3.6.1 This function is to test the prediction from each model on the split feature testing data"
   ]
  },
  {
   "cell_type": "code",
   "execution_count": 24,
   "metadata": {
    "scrolled": false
   },
   "outputs": [
    {
     "name": "stdout",
     "output_type": "stream",
     "text": [
      "Lasso: 0.080010\n",
      "RandomForest: 0.089148\n",
      "GradientBoosting: 0.082967\n",
      "Ridge: 0.082026\n"
     ]
    },
    {
     "data": {
      "image/png": "[encoded data removed]",
      "text/plain": [
       "<Figure size 1080x504 with 1 Axes>"
      ]
     },
     "metadata": {
      "needs_background": "light"
     },
     "output_type": "display_data"
    }
   ],
   "source": [
    "#Evaluate baseline models with default parameters\n",
    "model_test = model(X1_train, X1_test, y1_train, y1_test)\n",
    "model_test.model_run(models_eval_hp, 'Testing')"
   ]
  },
  {
   "cell_type": "markdown",
   "metadata": {
    "colab_type": "text",
    "id": "Lc2h8CLdQlgz"
   },
   "source": [
    "Findings :  Lasso Regression has the best MAE value of 0.080010. Hence it will be used to predict the predict the test dataset."
   ]
  },
  {
   "cell_type": "markdown",
   "metadata": {
    "colab_type": "text",
    "id": "RHvxDBIrQlg0"
   },
   "source": [
    "### 3.7 Best Model Selection"
   ]
  },
  {
   "cell_type": "code",
   "execution_count": 25,
   "metadata": {
    "colab": {
     "base_uri": "https://localhost:8080/",
     "height": 34
    },
    "colab_type": "code",
    "executionInfo": {
     "elapsed": 1207,
     "status": "ok",
     "timestamp": 1599660865313,
     "user": {
      "displayName": "Dapo Laniya",
      "photoUrl": "",
      "userId": "07293732013348809745"
     },
     "user_tz": 240
    },
    "id": "QSZzs4XOQlg1",
    "outputId": "c499876b-50fa-413c-cca6-185227304a99"
   },
   "outputs": [
    {
     "data": {
      "text/plain": [
       "Lasso(alpha=0.001, random_state=5)"
      ]
     },
     "execution_count": 25,
     "metadata": {},
     "output_type": "execute_result"
    }
   ],
   "source": [
    "bestModel = Lasso(alpha=0.001, random_state=5)\n",
    "bestModel"
   ]
  },
  {
   "cell_type": "markdown",
   "metadata": {
    "colab_type": "text",
    "id": "hOUzgYClQlg9"
   },
   "source": [
    "## Part 4 - DEPLOY"
   ]
  },
  {
   "cell_type": "markdown",
   "metadata": {
    "colab_type": "text",
    "id": "Xebu9plDQlhK"
   },
   "source": [
    "### 4.1 Score the Test Dataset"
   ]
  },
  {
   "cell_type": "markdown",
   "metadata": {
    "colab_type": "text",
    "id": "A8UC_mHaQlhL"
   },
   "source": [
    "4.1.1 Test data was inspected cleaned and explored in section 2 above. The data will undergo same encoding and feature engineering to match the shape of the train dataset."
   ]
  },
  {
   "cell_type": "code",
   "execution_count": 26,
   "metadata": {},
   "outputs": [],
   "source": [
    "#Create a feature for Age of house using the YearBuilt & YearRemodAdd features and drop YearBuilt, YearRemodAdd, Diff\n",
    "now = datetime.datetime.now()\n",
    "test_df['Diff'] = test_df['YearRemodAdd'] - test_df['YearBuilt']\n",
    "\n",
    "if ((test_df['Diff'] > 0).any()):\n",
    "    house_age = now.year - test_df['YearRemodAdd']\n",
    "    test_df['HouseAge'] = now.year - test_df['YearRemodAdd']\n",
    "else:\n",
    "    house_age = now.year - test_df['YearBuilt']\n",
    "    test_df['HouseAge'] = now.year - test_df['YearBuilt']\n",
    "test_df = test_df.drop(['YearBuilt', 'YearRemodAdd', 'Diff'], axis=1)"
   ]
  },
  {
   "cell_type": "code",
   "execution_count": 27,
   "metadata": {},
   "outputs": [],
   "source": [
    "#Convert some features to string datatype based on their description\n",
    "test_df['MSSubClass'] = test_df['MSSubClass'].astype(str)"
   ]
  },
  {
   "cell_type": "code",
   "execution_count": 28,
   "metadata": {},
   "outputs": [],
   "source": [
    "# Converting some of the categorical values to numeric ones. Choosing similar values for closer groups to balance linear relations...\n",
    "\n",
    "hood_map = {'MeadowV': 1, 'IDOTRR': 1, 'BrDale': 1, 'BrkSide': 2, 'OldTown': 2, 'Edwards': 2, 'Sawyer': 3, 'Blueste': 3, \n",
    "            'SWISU': 3, 'NPkVill': 3, 'NAmes': 3, 'Mitchel': 4, 'SawyerW': 5, 'NWAmes': 5, 'Gilbert': 5, 'Blmngtn': 5, \n",
    "            'CollgCr': 5, 'ClearCr': 6, 'Crawfor': 6, 'Veenker': 7, 'Somerst': 7, 'Timber': 8, 'StoneBr': 9, 'NridgHt': 10, \n",
    "            'NoRidge': 10}\n",
    "test_df['Neighborhood'] = test_df['Neighborhood'].map(hood_map).astype('int')\n",
    "\n",
    "exterior_map = {'Po': 1, 'Fa': 2, 'TA': 3, 'Gd': 4, 'Ex': 5}\n",
    "test_df['ExterQual'] = test_df['ExterQual'].map(exterior_map).astype('int')\n",
    "test_df['ExterCond'] = test_df['ExterCond'].map(exterior_map).astype('int')\n",
    "\n",
    "bsmt_map = {'None': 0, 'Po': 1, 'Fa': 2, 'TA': 3, 'Gd': 4, 'Ex': 5}\n",
    "test_df['BsmtQual'] = test_df['BsmtQual'].map(bsmt_map).astype('int')\n",
    "test_df['FireplaceQu'] = test_df['FireplaceQu'].map(bsmt_map).astype('int')\n",
    "test_df['GarageCond'] = test_df['GarageCond'].map(bsmt_map).astype('int')\n",
    "test_df['GarageQual'] = test_df['GarageQual'].map(bsmt_map).astype('int')\n",
    "test_df['BsmtCond'] = test_df['BsmtCond'].map(bsmt_map).astype('int')\n",
    "\n",
    "bsmtf_map = {'None': 0, 'Unf': 1, 'LwQ': 2, 'Rec': 3, 'BLQ': 4, 'ALQ': 5, 'GLQ': 6}\n",
    "test_df['BsmtFinType1'] = test_df['BsmtFinType1'].map(bsmtf_map).astype('int')\n",
    "test_df['BsmtFinType2'] = test_df['BsmtFinType2'].map(bsmtf_map).astype('int')\n",
    "\n",
    "misc_map = {'Po': 1, 'Fa': 2, 'TA': 3, 'Gd': 4, 'Ex': 5}\n",
    "test_df['HeatingQC'] = test_df['HeatingQC'].map(misc_map).astype('int')\n",
    "test_df['KitchenQual'] = test_df['KitchenQual'].map(misc_map).astype('int')\n",
    "\n",
    "gar_map = {'None': 0, 'Unf': 1, 'RFn': 2, 'Fin': 3,}\n",
    "test_df['GarageFinish'] = test_df['GarageFinish'].map(gar_map).astype('int')\n",
    "\n",
    "bsmtex_map = {'None': 0, 'No': 1, 'Mn': 2, 'Av': 3, 'Gd': 4}\n",
    "test_df['BsmtExposure'] = test_df['BsmtExposure'].map(bsmtex_map).astype('int')\n",
    "\n",
    "cair_map = {'N': 0, 'Y': 1,}\n",
    "test_df['CentralAir'] = test_df['CentralAir'].map(cair_map).astype('int')\n",
    "\n",
    "paved_map = {'N': 0, 'P': 1, 'Y': 2,}\n",
    "test_df['PavedDrive'] = test_df['PavedDrive'].map(paved_map).astype('int')\n",
    "\n",
    "poolqc_map = {'None': 0, 'Fa': 1, 'TA': 2, 'Gd': 3, 'Ex': 4}\n",
    "test_df['PoolQC'] = test_df['PoolQC'].map(poolqc_map).astype('int')"
   ]
  },
  {
   "cell_type": "code",
   "execution_count": 29,
   "metadata": {},
   "outputs": [
    {
     "data": {
      "text/plain": [
       "Index(['MSSubClass', 'MSZoning', 'Street', 'Alley', 'LotShape', 'LandContour',\n",
       "       'LotConfig', 'Condition1', 'Condition2', 'BldgType', 'HouseStyle',\n",
       "       'RoofStyle', 'RoofMatl', 'Exterior1st', 'MasVnrType', 'Foundation',\n",
       "       'Heating', 'Electrical', 'Functional', 'GarageType', 'Fence',\n",
       "       'MiscFeature', 'SaleType'],\n",
       "      dtype='object')"
      ]
     },
     "execution_count": 29,
     "metadata": {},
     "output_type": "execute_result"
    }
   ],
   "source": [
    "#Extract all categorical feature ready for encoding\n",
    "test_df.select_dtypes(include=['object']).columns"
   ]
  },
  {
   "cell_type": "code",
   "execution_count": 30,
   "metadata": {},
   "outputs": [
    {
     "data": {
      "text/plain": [
       "Index(['LotFrontage', 'LotArea', 'Neighborhood', 'OverallQual', 'OverallCond',\n",
       "       'MasVnrArea', 'ExterQual', 'ExterCond', 'BsmtQual', 'BsmtCond',\n",
       "       'BsmtExposure', 'BsmtFinType1', 'BsmtFinSF1', 'BsmtFinType2',\n",
       "       'BsmtUnfSF', 'TotalBsmtSF', 'HeatingQC', 'CentralAir', '2ndFlrSF',\n",
       "       'GrLivArea', 'BsmtFullBath', 'FullBath', 'HalfBath', 'BedroomAbvGr',\n",
       "       'KitchenAbvGr', 'KitchenQual', 'Fireplaces', 'FireplaceQu',\n",
       "       'GarageFinish', 'GarageCars', 'GarageQual', 'GarageCond', 'PavedDrive',\n",
       "       'WoodDeckSF', 'OpenPorchSF', 'EnclosedPorch', 'ScreenPorch', 'PoolArea',\n",
       "       'PoolQC', 'HouseAge'],\n",
       "      dtype='object')"
      ]
     },
     "execution_count": 30,
     "metadata": {},
     "output_type": "execute_result"
    }
   ],
   "source": [
    "#Extract all numerical features ready for normalization\n",
    "test_df.select_dtypes(exclude=['object']).columns"
   ]
  },
  {
   "cell_type": "code",
   "execution_count": 31,
   "metadata": {},
   "outputs": [],
   "source": [
    "#Encode categorical features in Testing Data\n",
    "cat_variables = ['MSSubClass', 'MSZoning', 'Street', 'Alley', 'LotShape', 'LandContour',\n",
    "       'LotConfig', 'Condition1', 'Condition2', 'BldgType', 'HouseStyle',\n",
    "       'RoofStyle', 'RoofMatl', 'Exterior1st', 'MasVnrType', 'Foundation',\n",
    "       'Heating', 'Electrical', 'Functional', 'GarageType', 'Fence',\n",
    "       'MiscFeature', 'SaleType']\n",
    "\n",
    "for var in cat_variables:\n",
    "    dummies = pd.get_dummies(test_df[var], prefix=var)\n",
    "    test_df = pd.concat([test_df, dummies], axis=1)\n",
    "    test_df.drop([var], axis=1, inplace=True)"
   ]
  },
  {
   "cell_type": "code",
   "execution_count": 32,
   "metadata": {},
   "outputs": [
    {
     "data": {
      "text/html": [
       "<div>\n",
       "<style scoped>\n",
       "    .dataframe tbody tr th:only-of-type {\n",
       "        vertical-align: middle;\n",
       "    }\n",
       "\n",
       "    .dataframe tbody tr th {\n",
       "        vertical-align: top;\n",
       "    }\n",
       "\n",
       "    .dataframe thead th {\n",
       "        text-align: right;\n",
       "    }\n",
       "</style>\n",
       "<table border=\"1\" class=\"dataframe\">\n",
       "  <thead>\n",
       "    <tr style=\"text-align: right;\">\n",
       "      <th></th>\n",
       "      <th>MSSubClass_120</th>\n",
       "      <th>MSSubClass_150</th>\n",
       "      <th>MSSubClass_160</th>\n",
       "      <th>MSSubClass_180</th>\n",
       "      <th>MSSubClass_190</th>\n",
       "      <th>MSSubClass_20</th>\n",
       "      <th>MSSubClass_30</th>\n",
       "      <th>MSSubClass_40</th>\n",
       "      <th>MSSubClass_45</th>\n",
       "      <th>MSSubClass_50</th>\n",
       "      <th>...</th>\n",
       "      <th>GarageQualnorm</th>\n",
       "      <th>GarageCondnorm</th>\n",
       "      <th>PavedDrivenorm</th>\n",
       "      <th>WoodDeckSFnorm</th>\n",
       "      <th>OpenPorchSFnorm</th>\n",
       "      <th>EnclosedPorchnorm</th>\n",
       "      <th>ScreenPorchnorm</th>\n",
       "      <th>PoolAreanorm</th>\n",
       "      <th>PoolQCnorm</th>\n",
       "      <th>HouseAgenorm</th>\n",
       "    </tr>\n",
       "  </thead>\n",
       "  <tbody>\n",
       "    <tr>\n",
       "      <th>count</th>\n",
       "      <td>1459.000000</td>\n",
       "      <td>1459.000000</td>\n",
       "      <td>1459.000000</td>\n",
       "      <td>1459.000000</td>\n",
       "      <td>1459.000000</td>\n",
       "      <td>1459.000000</td>\n",
       "      <td>1459.000000</td>\n",
       "      <td>1459.000000</td>\n",
       "      <td>1459.000000</td>\n",
       "      <td>1459.000000</td>\n",
       "      <td>...</td>\n",
       "      <td>1459.00000</td>\n",
       "      <td>1459.000000</td>\n",
       "      <td>1459.000000</td>\n",
       "      <td>1459.000000</td>\n",
       "      <td>1459.000000</td>\n",
       "      <td>1459.000000</td>\n",
       "      <td>1459.000000</td>\n",
       "      <td>1459.000000</td>\n",
       "      <td>1459.000000</td>\n",
       "      <td>1459.000000</td>\n",
       "    </tr>\n",
       "    <tr>\n",
       "      <th>mean</th>\n",
       "      <td>0.065113</td>\n",
       "      <td>0.000685</td>\n",
       "      <td>0.044551</td>\n",
       "      <td>0.004798</td>\n",
       "      <td>0.021247</td>\n",
       "      <td>0.372173</td>\n",
       "      <td>0.047978</td>\n",
       "      <td>0.001371</td>\n",
       "      <td>0.004112</td>\n",
       "      <td>0.098012</td>\n",
       "      <td>...</td>\n",
       "      <td>0.69791</td>\n",
       "      <td>0.561755</td>\n",
       "      <td>0.902673</td>\n",
       "      <td>0.065432</td>\n",
       "      <td>0.065113</td>\n",
       "      <td>0.023956</td>\n",
       "      <td>0.029626</td>\n",
       "      <td>0.002180</td>\n",
       "      <td>0.001885</td>\n",
       "      <td>0.519103</td>\n",
       "    </tr>\n",
       "    <tr>\n",
       "      <th>std</th>\n",
       "      <td>0.246810</td>\n",
       "      <td>0.026180</td>\n",
       "      <td>0.206387</td>\n",
       "      <td>0.069124</td>\n",
       "      <td>0.144258</td>\n",
       "      <td>0.483550</td>\n",
       "      <td>0.213793</td>\n",
       "      <td>0.037012</td>\n",
       "      <td>0.064018</td>\n",
       "      <td>0.297433</td>\n",
       "      <td>...</td>\n",
       "      <td>0.17722</td>\n",
       "      <td>0.141096</td>\n",
       "      <td>0.287102</td>\n",
       "      <td>0.089708</td>\n",
       "      <td>0.092835</td>\n",
       "      <td>0.066431</td>\n",
       "      <td>0.098281</td>\n",
       "      <td>0.038115</td>\n",
       "      <td>0.041881</td>\n",
       "      <td>0.301864</td>\n",
       "    </tr>\n",
       "    <tr>\n",
       "      <th>min</th>\n",
       "      <td>0.000000</td>\n",
       "      <td>0.000000</td>\n",
       "      <td>0.000000</td>\n",
       "      <td>0.000000</td>\n",
       "      <td>0.000000</td>\n",
       "      <td>0.000000</td>\n",
       "      <td>0.000000</td>\n",
       "      <td>0.000000</td>\n",
       "      <td>0.000000</td>\n",
       "      <td>0.000000</td>\n",
       "      <td>...</td>\n",
       "      <td>0.00000</td>\n",
       "      <td>0.000000</td>\n",
       "      <td>0.000000</td>\n",
       "      <td>0.000000</td>\n",
       "      <td>0.000000</td>\n",
       "      <td>0.000000</td>\n",
       "      <td>0.000000</td>\n",
       "      <td>0.000000</td>\n",
       "      <td>0.000000</td>\n",
       "      <td>0.142857</td>\n",
       "    </tr>\n",
       "    <tr>\n",
       "      <th>25%</th>\n",
       "      <td>0.000000</td>\n",
       "      <td>0.000000</td>\n",
       "      <td>0.000000</td>\n",
       "      <td>0.000000</td>\n",
       "      <td>0.000000</td>\n",
       "      <td>0.000000</td>\n",
       "      <td>0.000000</td>\n",
       "      <td>0.000000</td>\n",
       "      <td>0.000000</td>\n",
       "      <td>0.000000</td>\n",
       "      <td>...</td>\n",
       "      <td>0.75000</td>\n",
       "      <td>0.600000</td>\n",
       "      <td>1.000000</td>\n",
       "      <td>0.000000</td>\n",
       "      <td>0.000000</td>\n",
       "      <td>0.000000</td>\n",
       "      <td>0.000000</td>\n",
       "      <td>0.000000</td>\n",
       "      <td>0.000000</td>\n",
       "      <td>0.228571</td>\n",
       "    </tr>\n",
       "    <tr>\n",
       "      <th>50%</th>\n",
       "      <td>0.000000</td>\n",
       "      <td>0.000000</td>\n",
       "      <td>0.000000</td>\n",
       "      <td>0.000000</td>\n",
       "      <td>0.000000</td>\n",
       "      <td>0.000000</td>\n",
       "      <td>0.000000</td>\n",
       "      <td>0.000000</td>\n",
       "      <td>0.000000</td>\n",
       "      <td>0.000000</td>\n",
       "      <td>...</td>\n",
       "      <td>0.75000</td>\n",
       "      <td>0.600000</td>\n",
       "      <td>1.000000</td>\n",
       "      <td>0.000000</td>\n",
       "      <td>0.037736</td>\n",
       "      <td>0.000000</td>\n",
       "      <td>0.000000</td>\n",
       "      <td>0.000000</td>\n",
       "      <td>0.000000</td>\n",
       "      <td>0.400000</td>\n",
       "    </tr>\n",
       "    <tr>\n",
       "      <th>75%</th>\n",
       "      <td>0.000000</td>\n",
       "      <td>0.000000</td>\n",
       "      <td>0.000000</td>\n",
       "      <td>0.000000</td>\n",
       "      <td>0.000000</td>\n",
       "      <td>1.000000</td>\n",
       "      <td>0.000000</td>\n",
       "      <td>0.000000</td>\n",
       "      <td>0.000000</td>\n",
       "      <td>0.000000</td>\n",
       "      <td>...</td>\n",
       "      <td>0.75000</td>\n",
       "      <td>0.600000</td>\n",
       "      <td>1.000000</td>\n",
       "      <td>0.117978</td>\n",
       "      <td>0.097035</td>\n",
       "      <td>0.000000</td>\n",
       "      <td>0.000000</td>\n",
       "      <td>0.000000</td>\n",
       "      <td>0.000000</td>\n",
       "      <td>0.814286</td>\n",
       "    </tr>\n",
       "    <tr>\n",
       "      <th>max</th>\n",
       "      <td>1.000000</td>\n",
       "      <td>1.000000</td>\n",
       "      <td>1.000000</td>\n",
       "      <td>1.000000</td>\n",
       "      <td>1.000000</td>\n",
       "      <td>1.000000</td>\n",
       "      <td>1.000000</td>\n",
       "      <td>1.000000</td>\n",
       "      <td>1.000000</td>\n",
       "      <td>1.000000</td>\n",
       "      <td>...</td>\n",
       "      <td>1.00000</td>\n",
       "      <td>1.000000</td>\n",
       "      <td>1.000000</td>\n",
       "      <td>1.000000</td>\n",
       "      <td>1.000000</td>\n",
       "      <td>1.000000</td>\n",
       "      <td>1.000000</td>\n",
       "      <td>1.000000</td>\n",
       "      <td>1.000000</td>\n",
       "      <td>1.000000</td>\n",
       "    </tr>\n",
       "  </tbody>\n",
       "</table>\n",
       "<p>8 rows × 178 columns</p>\n",
       "</div>"
      ],
      "text/plain": [
       "       MSSubClass_120  MSSubClass_150  MSSubClass_160  MSSubClass_180  \\\n",
       "count     1459.000000     1459.000000     1459.000000     1459.000000   \n",
       "mean         0.065113        0.000685        0.044551        0.004798   \n",
       "std          0.246810        0.026180        0.206387        0.069124   \n",
       "min          0.000000        0.000000        0.000000        0.000000   \n",
       "25%          0.000000        0.000000        0.000000        0.000000   \n",
       "50%          0.000000        0.000000        0.000000        0.000000   \n",
       "75%          0.000000        0.000000        0.000000        0.000000   \n",
       "max          1.000000        1.000000        1.000000        1.000000   \n",
       "\n",
       "       MSSubClass_190  MSSubClass_20  MSSubClass_30  MSSubClass_40  \\\n",
       "count     1459.000000    1459.000000    1459.000000    1459.000000   \n",
       "mean         0.021247       0.372173       0.047978       0.001371   \n",
       "std          0.144258       0.483550       0.213793       0.037012   \n",
       "min          0.000000       0.000000       0.000000       0.000000   \n",
       "25%          0.000000       0.000000       0.000000       0.000000   \n",
       "50%          0.000000       0.000000       0.000000       0.000000   \n",
       "75%          0.000000       1.000000       0.000000       0.000000   \n",
       "max          1.000000       1.000000       1.000000       1.000000   \n",
       "\n",
       "       MSSubClass_45  MSSubClass_50  ...  GarageQualnorm  GarageCondnorm  \\\n",
       "count    1459.000000    1459.000000  ...      1459.00000     1459.000000   \n",
       "mean        0.004112       0.098012  ...         0.69791        0.561755   \n",
       "std         0.064018       0.297433  ...         0.17722        0.141096   \n",
       "min         0.000000       0.000000  ...         0.00000        0.000000   \n",
       "25%         0.000000       0.000000  ...         0.75000        0.600000   \n",
       "50%         0.000000       0.000000  ...         0.75000        0.600000   \n",
       "75%         0.000000       0.000000  ...         0.75000        0.600000   \n",
       "max         1.000000       1.000000  ...         1.00000        1.000000   \n",
       "\n",
       "       PavedDrivenorm  WoodDeckSFnorm  OpenPorchSFnorm  EnclosedPorchnorm  \\\n",
       "count     1459.000000     1459.000000      1459.000000        1459.000000   \n",
       "mean         0.902673        0.065432         0.065113           0.023956   \n",
       "std          0.287102        0.089708         0.092835           0.066431   \n",
       "min          0.000000        0.000000         0.000000           0.000000   \n",
       "25%          1.000000        0.000000         0.000000           0.000000   \n",
       "50%          1.000000        0.000000         0.037736           0.000000   \n",
       "75%          1.000000        0.117978         0.097035           0.000000   \n",
       "max          1.000000        1.000000         1.000000           1.000000   \n",
       "\n",
       "       ScreenPorchnorm  PoolAreanorm   PoolQCnorm  HouseAgenorm  \n",
       "count      1459.000000   1459.000000  1459.000000   1459.000000  \n",
       "mean          0.029626      0.002180     0.001885      0.519103  \n",
       "std           0.098281      0.038115     0.041881      0.301864  \n",
       "min           0.000000      0.000000     0.000000      0.142857  \n",
       "25%           0.000000      0.000000     0.000000      0.228571  \n",
       "50%           0.000000      0.000000     0.000000      0.400000  \n",
       "75%           0.000000      0.000000     0.000000      0.814286  \n",
       "max           1.000000      1.000000     1.000000      1.000000  \n",
       "\n",
       "[8 rows x 178 columns]"
      ]
     },
     "execution_count": 32,
     "metadata": {},
     "output_type": "execute_result"
    }
   ],
   "source": [
    "#Normalize numerical data in Testing Dataset ready for modeling\n",
    "features = ['LotFrontage', 'LotArea', 'Neighborhood', 'OverallQual', 'OverallCond',\n",
    "       'MasVnrArea', 'ExterQual', 'ExterCond', 'BsmtQual', 'BsmtCond',\n",
    "       'BsmtExposure', 'BsmtFinType1', 'BsmtFinSF1', 'BsmtFinType2',\n",
    "       'BsmtUnfSF', 'TotalBsmtSF', 'HeatingQC', 'CentralAir', '2ndFlrSF',\n",
    "       'GrLivArea', 'BsmtFullBath', 'FullBath', 'HalfBath', 'BedroomAbvGr',\n",
    "       'KitchenAbvGr', 'KitchenQual', 'Fireplaces', 'FireplaceQu',\n",
    "       'GarageFinish', 'GarageCars', 'GarageQual', 'GarageCond', 'PavedDrive',\n",
    "       'WoodDeckSF', 'OpenPorchSF', 'EnclosedPorch', 'ScreenPorch', 'PoolArea',\n",
    "       'PoolQC', 'HouseAge']\n",
    "test_norm = eda_process(test_df)\n",
    "test_norm.normalize(features)\n",
    "test_df = test_df.drop(features, axis=1)\n",
    "test_df.describe()"
   ]
  },
  {
   "cell_type": "markdown",
   "metadata": {
    "colab_type": "text",
    "id": "LuNBFrF8Qlhe"
   },
   "source": [
    "4.1.2 Test data encoded using funtion defined in section 4.2.1 above."
   ]
  },
  {
   "cell_type": "code",
   "execution_count": 34,
   "metadata": {},
   "outputs": [],
   "source": [
    "#Ensure training and testing data have the same number of columns\n",
    "for i in list(train_df1_X):\n",
    "    if i not in list(test_df):\n",
    "        test_df[i] = 0"
   ]
  },
  {
   "cell_type": "code",
   "execution_count": 35,
   "metadata": {},
   "outputs": [],
   "source": [
    "#Ensure training and testing data have the same number of columns\n",
    "for i in list(test_df):\n",
    "    if i not in list(train_df1_X):\n",
    "        train_df1_X[i] = 0"
   ]
  },
  {
   "cell_type": "code",
   "execution_count": 36,
   "metadata": {},
   "outputs": [
    {
     "data": {
      "text/html": [
       "<div>\n",
       "<style scoped>\n",
       "    .dataframe tbody tr th:only-of-type {\n",
       "        vertical-align: middle;\n",
       "    }\n",
       "\n",
       "    .dataframe tbody tr th {\n",
       "        vertical-align: top;\n",
       "    }\n",
       "\n",
       "    .dataframe thead th {\n",
       "        text-align: right;\n",
       "    }\n",
       "</style>\n",
       "<table border=\"1\" class=\"dataframe\">\n",
       "  <thead>\n",
       "    <tr style=\"text-align: right;\">\n",
       "      <th></th>\n",
       "      <th>MSSubClass_120</th>\n",
       "      <th>MSSubClass_150</th>\n",
       "      <th>MSSubClass_160</th>\n",
       "      <th>MSSubClass_180</th>\n",
       "      <th>MSSubClass_190</th>\n",
       "      <th>MSSubClass_20</th>\n",
       "      <th>MSSubClass_30</th>\n",
       "      <th>MSSubClass_40</th>\n",
       "      <th>MSSubClass_45</th>\n",
       "      <th>MSSubClass_50</th>\n",
       "      <th>...</th>\n",
       "      <th>HouseStyle_2.5Fin</th>\n",
       "      <th>RoofMatl_Membran</th>\n",
       "      <th>RoofMatl_Metal</th>\n",
       "      <th>RoofMatl_Roll</th>\n",
       "      <th>Exterior1st_ImStucc</th>\n",
       "      <th>Exterior1st_Stone</th>\n",
       "      <th>Heating_Floor</th>\n",
       "      <th>Heating_OthW</th>\n",
       "      <th>Electrical_Mix</th>\n",
       "      <th>MiscFeature_TenC</th>\n",
       "    </tr>\n",
       "  </thead>\n",
       "  <tbody>\n",
       "    <tr>\n",
       "      <th>count</th>\n",
       "      <td>1459.000000</td>\n",
       "      <td>1459.000000</td>\n",
       "      <td>1459.000000</td>\n",
       "      <td>1459.000000</td>\n",
       "      <td>1459.000000</td>\n",
       "      <td>1459.000000</td>\n",
       "      <td>1459.000000</td>\n",
       "      <td>1459.000000</td>\n",
       "      <td>1459.000000</td>\n",
       "      <td>1459.000000</td>\n",
       "      <td>...</td>\n",
       "      <td>1459.0</td>\n",
       "      <td>1459.0</td>\n",
       "      <td>1459.0</td>\n",
       "      <td>1459.0</td>\n",
       "      <td>1459.0</td>\n",
       "      <td>1459.0</td>\n",
       "      <td>1459.0</td>\n",
       "      <td>1459.0</td>\n",
       "      <td>1459.0</td>\n",
       "      <td>1459.0</td>\n",
       "    </tr>\n",
       "    <tr>\n",
       "      <th>mean</th>\n",
       "      <td>0.065113</td>\n",
       "      <td>0.000685</td>\n",
       "      <td>0.044551</td>\n",
       "      <td>0.004798</td>\n",
       "      <td>0.021247</td>\n",
       "      <td>0.372173</td>\n",
       "      <td>0.047978</td>\n",
       "      <td>0.001371</td>\n",
       "      <td>0.004112</td>\n",
       "      <td>0.098012</td>\n",
       "      <td>...</td>\n",
       "      <td>0.0</td>\n",
       "      <td>0.0</td>\n",
       "      <td>0.0</td>\n",
       "      <td>0.0</td>\n",
       "      <td>0.0</td>\n",
       "      <td>0.0</td>\n",
       "      <td>0.0</td>\n",
       "      <td>0.0</td>\n",
       "      <td>0.0</td>\n",
       "      <td>0.0</td>\n",
       "    </tr>\n",
       "    <tr>\n",
       "      <th>std</th>\n",
       "      <td>0.246810</td>\n",
       "      <td>0.026180</td>\n",
       "      <td>0.206387</td>\n",
       "      <td>0.069124</td>\n",
       "      <td>0.144258</td>\n",
       "      <td>0.483550</td>\n",
       "      <td>0.213793</td>\n",
       "      <td>0.037012</td>\n",
       "      <td>0.064018</td>\n",
       "      <td>0.297433</td>\n",
       "      <td>...</td>\n",
       "      <td>0.0</td>\n",
       "      <td>0.0</td>\n",
       "      <td>0.0</td>\n",
       "      <td>0.0</td>\n",
       "      <td>0.0</td>\n",
       "      <td>0.0</td>\n",
       "      <td>0.0</td>\n",
       "      <td>0.0</td>\n",
       "      <td>0.0</td>\n",
       "      <td>0.0</td>\n",
       "    </tr>\n",
       "    <tr>\n",
       "      <th>min</th>\n",
       "      <td>0.000000</td>\n",
       "      <td>0.000000</td>\n",
       "      <td>0.000000</td>\n",
       "      <td>0.000000</td>\n",
       "      <td>0.000000</td>\n",
       "      <td>0.000000</td>\n",
       "      <td>0.000000</td>\n",
       "      <td>0.000000</td>\n",
       "      <td>0.000000</td>\n",
       "      <td>0.000000</td>\n",
       "      <td>...</td>\n",
       "      <td>0.0</td>\n",
       "      <td>0.0</td>\n",
       "      <td>0.0</td>\n",
       "      <td>0.0</td>\n",
       "      <td>0.0</td>\n",
       "      <td>0.0</td>\n",
       "      <td>0.0</td>\n",
       "      <td>0.0</td>\n",
       "      <td>0.0</td>\n",
       "      <td>0.0</td>\n",
       "    </tr>\n",
       "    <tr>\n",
       "      <th>25%</th>\n",
       "      <td>0.000000</td>\n",
       "      <td>0.000000</td>\n",
       "      <td>0.000000</td>\n",
       "      <td>0.000000</td>\n",
       "      <td>0.000000</td>\n",
       "      <td>0.000000</td>\n",
       "      <td>0.000000</td>\n",
       "      <td>0.000000</td>\n",
       "      <td>0.000000</td>\n",
       "      <td>0.000000</td>\n",
       "      <td>...</td>\n",
       "      <td>0.0</td>\n",
       "      <td>0.0</td>\n",
       "      <td>0.0</td>\n",
       "      <td>0.0</td>\n",
       "      <td>0.0</td>\n",
       "      <td>0.0</td>\n",
       "      <td>0.0</td>\n",
       "      <td>0.0</td>\n",
       "      <td>0.0</td>\n",
       "      <td>0.0</td>\n",
       "    </tr>\n",
       "    <tr>\n",
       "      <th>50%</th>\n",
       "      <td>0.000000</td>\n",
       "      <td>0.000000</td>\n",
       "      <td>0.000000</td>\n",
       "      <td>0.000000</td>\n",
       "      <td>0.000000</td>\n",
       "      <td>0.000000</td>\n",
       "      <td>0.000000</td>\n",
       "      <td>0.000000</td>\n",
       "      <td>0.000000</td>\n",
       "      <td>0.000000</td>\n",
       "      <td>...</td>\n",
       "      <td>0.0</td>\n",
       "      <td>0.0</td>\n",
       "      <td>0.0</td>\n",
       "      <td>0.0</td>\n",
       "      <td>0.0</td>\n",
       "      <td>0.0</td>\n",
       "      <td>0.0</td>\n",
       "      <td>0.0</td>\n",
       "      <td>0.0</td>\n",
       "      <td>0.0</td>\n",
       "    </tr>\n",
       "    <tr>\n",
       "      <th>75%</th>\n",
       "      <td>0.000000</td>\n",
       "      <td>0.000000</td>\n",
       "      <td>0.000000</td>\n",
       "      <td>0.000000</td>\n",
       "      <td>0.000000</td>\n",
       "      <td>1.000000</td>\n",
       "      <td>0.000000</td>\n",
       "      <td>0.000000</td>\n",
       "      <td>0.000000</td>\n",
       "      <td>0.000000</td>\n",
       "      <td>...</td>\n",
       "      <td>0.0</td>\n",
       "      <td>0.0</td>\n",
       "      <td>0.0</td>\n",
       "      <td>0.0</td>\n",
       "      <td>0.0</td>\n",
       "      <td>0.0</td>\n",
       "      <td>0.0</td>\n",
       "      <td>0.0</td>\n",
       "      <td>0.0</td>\n",
       "      <td>0.0</td>\n",
       "    </tr>\n",
       "    <tr>\n",
       "      <th>max</th>\n",
       "      <td>1.000000</td>\n",
       "      <td>1.000000</td>\n",
       "      <td>1.000000</td>\n",
       "      <td>1.000000</td>\n",
       "      <td>1.000000</td>\n",
       "      <td>1.000000</td>\n",
       "      <td>1.000000</td>\n",
       "      <td>1.000000</td>\n",
       "      <td>1.000000</td>\n",
       "      <td>1.000000</td>\n",
       "      <td>...</td>\n",
       "      <td>0.0</td>\n",
       "      <td>0.0</td>\n",
       "      <td>0.0</td>\n",
       "      <td>0.0</td>\n",
       "      <td>0.0</td>\n",
       "      <td>0.0</td>\n",
       "      <td>0.0</td>\n",
       "      <td>0.0</td>\n",
       "      <td>0.0</td>\n",
       "      <td>0.0</td>\n",
       "    </tr>\n",
       "  </tbody>\n",
       "</table>\n",
       "<p>8 rows × 191 columns</p>\n",
       "</div>"
      ],
      "text/plain": [
       "       MSSubClass_120  MSSubClass_150  MSSubClass_160  MSSubClass_180  \\\n",
       "count     1459.000000     1459.000000     1459.000000     1459.000000   \n",
       "mean         0.065113        0.000685        0.044551        0.004798   \n",
       "std          0.246810        0.026180        0.206387        0.069124   \n",
       "min          0.000000        0.000000        0.000000        0.000000   \n",
       "25%          0.000000        0.000000        0.000000        0.000000   \n",
       "50%          0.000000        0.000000        0.000000        0.000000   \n",
       "75%          0.000000        0.000000        0.000000        0.000000   \n",
       "max          1.000000        1.000000        1.000000        1.000000   \n",
       "\n",
       "       MSSubClass_190  MSSubClass_20  MSSubClass_30  MSSubClass_40  \\\n",
       "count     1459.000000    1459.000000    1459.000000    1459.000000   \n",
       "mean         0.021247       0.372173       0.047978       0.001371   \n",
       "std          0.144258       0.483550       0.213793       0.037012   \n",
       "min          0.000000       0.000000       0.000000       0.000000   \n",
       "25%          0.000000       0.000000       0.000000       0.000000   \n",
       "50%          0.000000       0.000000       0.000000       0.000000   \n",
       "75%          0.000000       1.000000       0.000000       0.000000   \n",
       "max          1.000000       1.000000       1.000000       1.000000   \n",
       "\n",
       "       MSSubClass_45  MSSubClass_50  ...  HouseStyle_2.5Fin  RoofMatl_Membran  \\\n",
       "count    1459.000000    1459.000000  ...             1459.0            1459.0   \n",
       "mean        0.004112       0.098012  ...                0.0               0.0   \n",
       "std         0.064018       0.297433  ...                0.0               0.0   \n",
       "min         0.000000       0.000000  ...                0.0               0.0   \n",
       "25%         0.000000       0.000000  ...                0.0               0.0   \n",
       "50%         0.000000       0.000000  ...                0.0               0.0   \n",
       "75%         0.000000       0.000000  ...                0.0               0.0   \n",
       "max         1.000000       1.000000  ...                0.0               0.0   \n",
       "\n",
       "       RoofMatl_Metal  RoofMatl_Roll  Exterior1st_ImStucc  Exterior1st_Stone  \\\n",
       "count          1459.0         1459.0               1459.0             1459.0   \n",
       "mean              0.0            0.0                  0.0                0.0   \n",
       "std               0.0            0.0                  0.0                0.0   \n",
       "min               0.0            0.0                  0.0                0.0   \n",
       "25%               0.0            0.0                  0.0                0.0   \n",
       "50%               0.0            0.0                  0.0                0.0   \n",
       "75%               0.0            0.0                  0.0                0.0   \n",
       "max               0.0            0.0                  0.0                0.0   \n",
       "\n",
       "       Heating_Floor  Heating_OthW  Electrical_Mix  MiscFeature_TenC  \n",
       "count         1459.0        1459.0          1459.0            1459.0  \n",
       "mean             0.0           0.0             0.0               0.0  \n",
       "std              0.0           0.0             0.0               0.0  \n",
       "min              0.0           0.0             0.0               0.0  \n",
       "25%              0.0           0.0             0.0               0.0  \n",
       "50%              0.0           0.0             0.0               0.0  \n",
       "75%              0.0           0.0             0.0               0.0  \n",
       "max              0.0           0.0             0.0               0.0  \n",
       "\n",
       "[8 rows x 191 columns]"
      ]
     },
     "execution_count": 36,
     "metadata": {},
     "output_type": "execute_result"
    }
   ],
   "source": [
    "test_df.describe()"
   ]
  },
  {
   "cell_type": "code",
   "execution_count": 37,
   "metadata": {},
   "outputs": [
    {
     "data": {
      "text/html": [
       "<div>\n",
       "<style scoped>\n",
       "    .dataframe tbody tr th:only-of-type {\n",
       "        vertical-align: middle;\n",
       "    }\n",
       "\n",
       "    .dataframe tbody tr th {\n",
       "        vertical-align: top;\n",
       "    }\n",
       "\n",
       "    .dataframe thead th {\n",
       "        text-align: right;\n",
       "    }\n",
       "</style>\n",
       "<table border=\"1\" class=\"dataframe\">\n",
       "  <thead>\n",
       "    <tr style=\"text-align: right;\">\n",
       "      <th></th>\n",
       "      <th>LotFrontagenorm</th>\n",
       "      <th>LotAreanorm</th>\n",
       "      <th>Neighborhoodnorm</th>\n",
       "      <th>OverallQualnorm</th>\n",
       "      <th>OverallCondnorm</th>\n",
       "      <th>MasVnrAreanorm</th>\n",
       "      <th>ExterQualnorm</th>\n",
       "      <th>ExterCondnorm</th>\n",
       "      <th>BsmtQualnorm</th>\n",
       "      <th>BsmtCondnorm</th>\n",
       "      <th>...</th>\n",
       "      <th>SaleType_COD</th>\n",
       "      <th>SaleType_CWD</th>\n",
       "      <th>SaleType_Con</th>\n",
       "      <th>SaleType_ConLD</th>\n",
       "      <th>SaleType_ConLI</th>\n",
       "      <th>SaleType_ConLw</th>\n",
       "      <th>SaleType_New</th>\n",
       "      <th>SaleType_Oth</th>\n",
       "      <th>SaleType_WD</th>\n",
       "      <th>MSSubClass_150</th>\n",
       "    </tr>\n",
       "  </thead>\n",
       "  <tbody>\n",
       "    <tr>\n",
       "      <th>count</th>\n",
       "      <td>1454.000000</td>\n",
       "      <td>1454.000000</td>\n",
       "      <td>1454.000000</td>\n",
       "      <td>1454.000000</td>\n",
       "      <td>1454.000000</td>\n",
       "      <td>1454.000000</td>\n",
       "      <td>1454.000000</td>\n",
       "      <td>1454.000000</td>\n",
       "      <td>1454.000000</td>\n",
       "      <td>1454.000000</td>\n",
       "      <td>...</td>\n",
       "      <td>1454.000000</td>\n",
       "      <td>1454.000000</td>\n",
       "      <td>1454.000000</td>\n",
       "      <td>1454.000000</td>\n",
       "      <td>1454.000000</td>\n",
       "      <td>1454.000000</td>\n",
       "      <td>1454.000000</td>\n",
       "      <td>1454.000000</td>\n",
       "      <td>1454.000000</td>\n",
       "      <td>1454.0</td>\n",
       "    </tr>\n",
       "    <tr>\n",
       "      <th>mean</th>\n",
       "      <td>0.383446</td>\n",
       "      <td>0.141991</td>\n",
       "      <td>0.449243</td>\n",
       "      <td>0.609560</td>\n",
       "      <td>0.619364</td>\n",
       "      <td>0.064018</td>\n",
       "      <td>0.679092</td>\n",
       "      <td>0.616781</td>\n",
       "      <td>0.697387</td>\n",
       "      <td>0.733666</td>\n",
       "      <td>...</td>\n",
       "      <td>0.029574</td>\n",
       "      <td>0.002751</td>\n",
       "      <td>0.001376</td>\n",
       "      <td>0.006190</td>\n",
       "      <td>0.003439</td>\n",
       "      <td>0.003439</td>\n",
       "      <td>0.083219</td>\n",
       "      <td>0.002063</td>\n",
       "      <td>0.867950</td>\n",
       "      <td>0.0</td>\n",
       "    </tr>\n",
       "    <tr>\n",
       "      <th>std</th>\n",
       "      <td>0.112508</td>\n",
       "      <td>0.077078</td>\n",
       "      <td>0.244688</td>\n",
       "      <td>0.138115</td>\n",
       "      <td>0.123720</td>\n",
       "      <td>0.112344</td>\n",
       "      <td>0.114666</td>\n",
       "      <td>0.070347</td>\n",
       "      <td>0.175377</td>\n",
       "      <td>0.138320</td>\n",
       "      <td>...</td>\n",
       "      <td>0.169466</td>\n",
       "      <td>0.052396</td>\n",
       "      <td>0.037075</td>\n",
       "      <td>0.078459</td>\n",
       "      <td>0.058560</td>\n",
       "      <td>0.058560</td>\n",
       "      <td>0.276308</td>\n",
       "      <td>0.045392</td>\n",
       "      <td>0.338661</td>\n",
       "      <td>0.0</td>\n",
       "    </tr>\n",
       "    <tr>\n",
       "      <th>min</th>\n",
       "      <td>0.115385</td>\n",
       "      <td>0.018372</td>\n",
       "      <td>0.100000</td>\n",
       "      <td>0.100000</td>\n",
       "      <td>0.111111</td>\n",
       "      <td>0.000000</td>\n",
       "      <td>0.400000</td>\n",
       "      <td>0.200000</td>\n",
       "      <td>0.000000</td>\n",
       "      <td>0.000000</td>\n",
       "      <td>...</td>\n",
       "      <td>0.000000</td>\n",
       "      <td>0.000000</td>\n",
       "      <td>0.000000</td>\n",
       "      <td>0.000000</td>\n",
       "      <td>0.000000</td>\n",
       "      <td>0.000000</td>\n",
       "      <td>0.000000</td>\n",
       "      <td>0.000000</td>\n",
       "      <td>0.000000</td>\n",
       "      <td>0.0</td>\n",
       "    </tr>\n",
       "    <tr>\n",
       "      <th>25%</th>\n",
       "      <td>0.329670</td>\n",
       "      <td>0.106503</td>\n",
       "      <td>0.300000</td>\n",
       "      <td>0.500000</td>\n",
       "      <td>0.555556</td>\n",
       "      <td>0.000000</td>\n",
       "      <td>0.600000</td>\n",
       "      <td>0.600000</td>\n",
       "      <td>0.600000</td>\n",
       "      <td>0.750000</td>\n",
       "      <td>...</td>\n",
       "      <td>0.000000</td>\n",
       "      <td>0.000000</td>\n",
       "      <td>0.000000</td>\n",
       "      <td>0.000000</td>\n",
       "      <td>0.000000</td>\n",
       "      <td>0.000000</td>\n",
       "      <td>0.000000</td>\n",
       "      <td>0.000000</td>\n",
       "      <td>1.000000</td>\n",
       "      <td>0.0</td>\n",
       "    </tr>\n",
       "    <tr>\n",
       "      <th>50%</th>\n",
       "      <td>0.384615</td>\n",
       "      <td>0.133668</td>\n",
       "      <td>0.500000</td>\n",
       "      <td>0.600000</td>\n",
       "      <td>0.555556</td>\n",
       "      <td>0.000000</td>\n",
       "      <td>0.600000</td>\n",
       "      <td>0.600000</td>\n",
       "      <td>0.800000</td>\n",
       "      <td>0.750000</td>\n",
       "      <td>...</td>\n",
       "      <td>0.000000</td>\n",
       "      <td>0.000000</td>\n",
       "      <td>0.000000</td>\n",
       "      <td>0.000000</td>\n",
       "      <td>0.000000</td>\n",
       "      <td>0.000000</td>\n",
       "      <td>0.000000</td>\n",
       "      <td>0.000000</td>\n",
       "      <td>1.000000</td>\n",
       "      <td>0.0</td>\n",
       "    </tr>\n",
       "    <tr>\n",
       "      <th>75%</th>\n",
       "      <td>0.439560</td>\n",
       "      <td>0.163173</td>\n",
       "      <td>0.500000</td>\n",
       "      <td>0.700000</td>\n",
       "      <td>0.666667</td>\n",
       "      <td>0.102344</td>\n",
       "      <td>0.800000</td>\n",
       "      <td>0.600000</td>\n",
       "      <td>0.800000</td>\n",
       "      <td>0.750000</td>\n",
       "      <td>...</td>\n",
       "      <td>0.000000</td>\n",
       "      <td>0.000000</td>\n",
       "      <td>0.000000</td>\n",
       "      <td>0.000000</td>\n",
       "      <td>0.000000</td>\n",
       "      <td>0.000000</td>\n",
       "      <td>0.000000</td>\n",
       "      <td>0.000000</td>\n",
       "      <td>1.000000</td>\n",
       "      <td>0.0</td>\n",
       "    </tr>\n",
       "    <tr>\n",
       "      <th>max</th>\n",
       "      <td>1.000000</td>\n",
       "      <td>1.000000</td>\n",
       "      <td>1.000000</td>\n",
       "      <td>1.000000</td>\n",
       "      <td>1.000000</td>\n",
       "      <td>1.000000</td>\n",
       "      <td>1.000000</td>\n",
       "      <td>1.000000</td>\n",
       "      <td>1.000000</td>\n",
       "      <td>1.000000</td>\n",
       "      <td>...</td>\n",
       "      <td>1.000000</td>\n",
       "      <td>1.000000</td>\n",
       "      <td>1.000000</td>\n",
       "      <td>1.000000</td>\n",
       "      <td>1.000000</td>\n",
       "      <td>1.000000</td>\n",
       "      <td>1.000000</td>\n",
       "      <td>1.000000</td>\n",
       "      <td>1.000000</td>\n",
       "      <td>0.0</td>\n",
       "    </tr>\n",
       "  </tbody>\n",
       "</table>\n",
       "<p>8 rows × 191 columns</p>\n",
       "</div>"
      ],
      "text/plain": [
       "       LotFrontagenorm  LotAreanorm  Neighborhoodnorm  OverallQualnorm  \\\n",
       "count      1454.000000  1454.000000       1454.000000      1454.000000   \n",
       "mean          0.383446     0.141991          0.449243         0.609560   \n",
       "std           0.112508     0.077078          0.244688         0.138115   \n",
       "min           0.115385     0.018372          0.100000         0.100000   \n",
       "25%           0.329670     0.106503          0.300000         0.500000   \n",
       "50%           0.384615     0.133668          0.500000         0.600000   \n",
       "75%           0.439560     0.163173          0.500000         0.700000   \n",
       "max           1.000000     1.000000          1.000000         1.000000   \n",
       "\n",
       "       OverallCondnorm  MasVnrAreanorm  ExterQualnorm  ExterCondnorm  \\\n",
       "count      1454.000000     1454.000000    1454.000000    1454.000000   \n",
       "mean          0.619364        0.064018       0.679092       0.616781   \n",
       "std           0.123720        0.112344       0.114666       0.070347   \n",
       "min           0.111111        0.000000       0.400000       0.200000   \n",
       "25%           0.555556        0.000000       0.600000       0.600000   \n",
       "50%           0.555556        0.000000       0.600000       0.600000   \n",
       "75%           0.666667        0.102344       0.800000       0.600000   \n",
       "max           1.000000        1.000000       1.000000       1.000000   \n",
       "\n",
       "       BsmtQualnorm  BsmtCondnorm  ...  SaleType_COD  SaleType_CWD  \\\n",
       "count   1454.000000   1454.000000  ...   1454.000000   1454.000000   \n",
       "mean       0.697387      0.733666  ...      0.029574      0.002751   \n",
       "std        0.175377      0.138320  ...      0.169466      0.052396   \n",
       "min        0.000000      0.000000  ...      0.000000      0.000000   \n",
       "25%        0.600000      0.750000  ...      0.000000      0.000000   \n",
       "50%        0.800000      0.750000  ...      0.000000      0.000000   \n",
       "75%        0.800000      0.750000  ...      0.000000      0.000000   \n",
       "max        1.000000      1.000000  ...      1.000000      1.000000   \n",
       "\n",
       "       SaleType_Con  SaleType_ConLD  SaleType_ConLI  SaleType_ConLw  \\\n",
       "count   1454.000000     1454.000000     1454.000000     1454.000000   \n",
       "mean       0.001376        0.006190        0.003439        0.003439   \n",
       "std        0.037075        0.078459        0.058560        0.058560   \n",
       "min        0.000000        0.000000        0.000000        0.000000   \n",
       "25%        0.000000        0.000000        0.000000        0.000000   \n",
       "50%        0.000000        0.000000        0.000000        0.000000   \n",
       "75%        0.000000        0.000000        0.000000        0.000000   \n",
       "max        1.000000        1.000000        1.000000        1.000000   \n",
       "\n",
       "       SaleType_New  SaleType_Oth  SaleType_WD  MSSubClass_150  \n",
       "count   1454.000000   1454.000000  1454.000000          1454.0  \n",
       "mean       0.083219      0.002063     0.867950             0.0  \n",
       "std        0.276308      0.045392     0.338661             0.0  \n",
       "min        0.000000      0.000000     0.000000             0.0  \n",
       "25%        0.000000      0.000000     1.000000             0.0  \n",
       "50%        0.000000      0.000000     1.000000             0.0  \n",
       "75%        0.000000      0.000000     1.000000             0.0  \n",
       "max        1.000000      1.000000     1.000000             0.0  \n",
       "\n",
       "[8 rows x 191 columns]"
      ]
     },
     "execution_count": 37,
     "metadata": {},
     "output_type": "execute_result"
    }
   ],
   "source": [
    "train_df1_X.describe()"
   ]
  },
  {
   "cell_type": "markdown",
   "metadata": {
    "colab_type": "text",
    "id": "KSb1Q7FhQlg9"
   },
   "source": [
    "### 4.2 Train best model selected on the entire training data"
   ]
  },
  {
   "cell_type": "markdown",
   "metadata": {
    "colab_type": "text",
    "id": "OIaR3OJPQlel"
   },
   "source": [
    "4.2.1 The best model is fitted to the entire training data "
   ]
  },
  {
   "cell_type": "code",
   "execution_count": 38,
   "metadata": {
    "colab": {
     "base_uri": "https://localhost:8080/",
     "height": 34
    },
    "colab_type": "code",
    "executionInfo": {
     "elapsed": 33844,
     "status": "ok",
     "timestamp": 1599660919069,
     "user": {
      "displayName": "Dapo Laniya",
      "photoUrl": "",
      "userId": "07293732013348809745"
     },
     "user_tz": 240
    },
    "id": "9nC3j9oVQlhF",
    "outputId": "9a78aa22-4363-4041-beaf-77e46e78fa86"
   },
   "outputs": [
    {
     "data": {
      "text/plain": [
       "Lasso(alpha=0.001, random_state=5)"
      ]
     },
     "execution_count": 38,
     "metadata": {},
     "output_type": "execute_result"
    }
   ],
   "source": [
    "#Train best model on the whole training data\n",
    "bestModel.fit(train_df1_X, train_df_logY)"
   ]
  },
  {
   "cell_type": "markdown",
   "metadata": {
    "colab_type": "text",
    "id": "LuNBFrF8Qlhe"
   },
   "source": [
    "4.2.2 SalePrice predictions based on test data features are generated using the selected best model"
   ]
  },
  {
   "cell_type": "code",
   "execution_count": 39,
   "metadata": {
    "colab": {
     "base_uri": "https://localhost:8080/",
     "height": 51
    },
    "colab_type": "code",
    "executionInfo": {
     "elapsed": 1049,
     "status": "ok",
     "timestamp": 1599661032414,
     "user": {
      "displayName": "Dapo Laniya",
      "photoUrl": "",
      "userId": "07293732013348809745"
     },
     "user_tz": 240
    },
    "id": "1rWSqF9TQlhj",
    "outputId": "f3d6707e-76a1-4fc0-eaad-653ddba26f8c"
   },
   "outputs": [
    {
     "data": {
      "text/plain": [
       "array([10.81801788, 11.6370274 , 11.64891373, ..., 11.81006842,\n",
       "       11.74667765, 11.86012721])"
      ]
     },
     "execution_count": 39,
     "metadata": {},
     "output_type": "execute_result"
    }
   ],
   "source": [
    "SalePrice_predictions = bestModel.predict(test_df)\n",
    "SalePrice_predictions"
   ]
  },
  {
   "cell_type": "markdown",
   "metadata": {
    "colab_type": "text",
    "id": "0sARzvkuQlhn"
   },
   "source": [
    "4.2.3 Combine the test data 'Id' and the predicted SalePrice into a dataframe"
   ]
  },
  {
   "cell_type": "code",
   "execution_count": 40,
   "metadata": {
    "colab": {},
    "colab_type": "code",
    "executionInfo": {
     "elapsed": 3790,
     "status": "ok",
     "timestamp": 1599660454785,
     "user": {
      "displayName": "Dapo Laniya",
      "photoUrl": "",
      "userId": "07293732013348809745"
     },
     "user_tz": 240
    },
    "id": "nnuZkIzVQlXP"
   },
   "outputs": [],
   "source": [
    "#load the data exported from the EDA Notebook into a Pandas dataframe\n",
    "test_df_orig = pd.read_csv(\"data/test.csv\")"
   ]
  },
  {
   "cell_type": "code",
   "execution_count": 41,
   "metadata": {},
   "outputs": [],
   "source": [
    "#Create a dataframe for the Test Data Id and the predicted SalePrice\n",
    "result = pd.DataFrame({'Id' : test_df_orig.Id, 'SalePrice' : np.exp(SalePrice_predictions)})"
   ]
  },
  {
   "cell_type": "code",
   "execution_count": 42,
   "metadata": {
    "colab": {
     "base_uri": "https://localhost:8080/",
     "height": 669
    },
    "colab_type": "code",
    "executionInfo": {
     "elapsed": 813,
     "status": "ok",
     "timestamp": 1599661049981,
     "user": {
      "displayName": "Dapo Laniya",
      "photoUrl": "",
      "userId": "07293732013348809745"
     },
     "user_tz": 240
    },
    "id": "mHCECvHIQlhu",
    "outputId": "fc688a78-aae1-48d3-d75d-af29ba11cb9d"
   },
   "outputs": [
    {
     "data": {
      "text/html": [
       "<div>\n",
       "<style scoped>\n",
       "    .dataframe tbody tr th:only-of-type {\n",
       "        vertical-align: middle;\n",
       "    }\n",
       "\n",
       "    .dataframe tbody tr th {\n",
       "        vertical-align: top;\n",
       "    }\n",
       "\n",
       "    .dataframe thead th {\n",
       "        text-align: right;\n",
       "    }\n",
       "</style>\n",
       "<table border=\"1\" class=\"dataframe\">\n",
       "  <thead>\n",
       "    <tr style=\"text-align: right;\">\n",
       "      <th></th>\n",
       "      <th>Id</th>\n",
       "      <th>SalePrice</th>\n",
       "    </tr>\n",
       "  </thead>\n",
       "  <tbody>\n",
       "    <tr>\n",
       "      <th>0</th>\n",
       "      <td>1461</td>\n",
       "      <td>49912.056981</td>\n",
       "    </tr>\n",
       "    <tr>\n",
       "      <th>1</th>\n",
       "      <td>1462</td>\n",
       "      <td>113213.127343</td>\n",
       "    </tr>\n",
       "    <tr>\n",
       "      <th>2</th>\n",
       "      <td>1463</td>\n",
       "      <td>114566.845130</td>\n",
       "    </tr>\n",
       "    <tr>\n",
       "      <th>3</th>\n",
       "      <td>1464</td>\n",
       "      <td>121688.328245</td>\n",
       "    </tr>\n",
       "    <tr>\n",
       "      <th>4</th>\n",
       "      <td>1465</td>\n",
       "      <td>108795.866264</td>\n",
       "    </tr>\n",
       "    <tr>\n",
       "      <th>5</th>\n",
       "      <td>1466</td>\n",
       "      <td>120016.575595</td>\n",
       "    </tr>\n",
       "    <tr>\n",
       "      <th>6</th>\n",
       "      <td>1467</td>\n",
       "      <td>107811.008577</td>\n",
       "    </tr>\n",
       "    <tr>\n",
       "      <th>7</th>\n",
       "      <td>1468</td>\n",
       "      <td>120272.596662</td>\n",
       "    </tr>\n",
       "    <tr>\n",
       "      <th>8</th>\n",
       "      <td>1469</td>\n",
       "      <td>133760.952908</td>\n",
       "    </tr>\n",
       "    <tr>\n",
       "      <th>9</th>\n",
       "      <td>1470</td>\n",
       "      <td>126327.791452</td>\n",
       "    </tr>\n",
       "    <tr>\n",
       "      <th>10</th>\n",
       "      <td>1471</td>\n",
       "      <td>45350.918031</td>\n",
       "    </tr>\n",
       "    <tr>\n",
       "      <th>11</th>\n",
       "      <td>1472</td>\n",
       "      <td>68586.498375</td>\n",
       "    </tr>\n",
       "    <tr>\n",
       "      <th>12</th>\n",
       "      <td>1473</td>\n",
       "      <td>68192.868624</td>\n",
       "    </tr>\n",
       "    <tr>\n",
       "      <th>13</th>\n",
       "      <td>1474</td>\n",
       "      <td>182479.069500</td>\n",
       "    </tr>\n",
       "    <tr>\n",
       "      <th>14</th>\n",
       "      <td>1475</td>\n",
       "      <td>142165.899155</td>\n",
       "    </tr>\n",
       "    <tr>\n",
       "      <th>15</th>\n",
       "      <td>1476</td>\n",
       "      <td>122008.845807</td>\n",
       "    </tr>\n",
       "    <tr>\n",
       "      <th>16</th>\n",
       "      <td>1477</td>\n",
       "      <td>113003.050358</td>\n",
       "    </tr>\n",
       "    <tr>\n",
       "      <th>17</th>\n",
       "      <td>1478</td>\n",
       "      <td>139730.230483</td>\n",
       "    </tr>\n",
       "    <tr>\n",
       "      <th>18</th>\n",
       "      <td>1479</td>\n",
       "      <td>118852.486668</td>\n",
       "    </tr>\n",
       "    <tr>\n",
       "      <th>19</th>\n",
       "      <td>1480</td>\n",
       "      <td>129998.925522</td>\n",
       "    </tr>\n",
       "  </tbody>\n",
       "</table>\n",
       "</div>"
      ],
      "text/plain": [
       "      Id      SalePrice\n",
       "0   1461   49912.056981\n",
       "1   1462  113213.127343\n",
       "2   1463  114566.845130\n",
       "3   1464  121688.328245\n",
       "4   1465  108795.866264\n",
       "5   1466  120016.575595\n",
       "6   1467  107811.008577\n",
       "7   1468  120272.596662\n",
       "8   1469  133760.952908\n",
       "9   1470  126327.791452\n",
       "10  1471   45350.918031\n",
       "11  1472   68586.498375\n",
       "12  1473   68192.868624\n",
       "13  1474  182479.069500\n",
       "14  1475  142165.899155\n",
       "15  1476  122008.845807\n",
       "16  1477  113003.050358\n",
       "17  1478  139730.230483\n",
       "18  1479  118852.486668\n",
       "19  1480  129998.925522"
      ]
     },
     "execution_count": 42,
     "metadata": {},
     "output_type": "execute_result"
    }
   ],
   "source": [
    "result.head(20)"
   ]
  },
  {
   "cell_type": "code",
   "execution_count": 43,
   "metadata": {
    "colab": {},
    "colab_type": "code",
    "executionInfo": {
     "elapsed": 1198,
     "status": "ok",
     "timestamp": 1599661045316,
     "user": {
      "displayName": "Dapo Laniya",
      "photoUrl": "",
      "userId": "07293732013348809745"
     },
     "user_tz": 240
    },
    "id": "E0g4DGnhQlho"
   },
   "outputs": [],
   "source": [
    "#Updating the test dataset with the additional 'predisted_salary' column\n",
    "test_df_orig['SalePrice'] = (np.exp(SalePrice_predictions)).tolist()"
   ]
  },
  {
   "cell_type": "code",
   "execution_count": 44,
   "metadata": {},
   "outputs": [
    {
     "data": {
      "text/html": [
       "<div>\n",
       "<style scoped>\n",
       "    .dataframe tbody tr th:only-of-type {\n",
       "        vertical-align: middle;\n",
       "    }\n",
       "\n",
       "    .dataframe tbody tr th {\n",
       "        vertical-align: top;\n",
       "    }\n",
       "\n",
       "    .dataframe thead th {\n",
       "        text-align: right;\n",
       "    }\n",
       "</style>\n",
       "<table border=\"1\" class=\"dataframe\">\n",
       "  <thead>\n",
       "    <tr style=\"text-align: right;\">\n",
       "      <th></th>\n",
       "      <th>Id</th>\n",
       "      <th>MSSubClass</th>\n",
       "      <th>MSZoning</th>\n",
       "      <th>LotFrontage</th>\n",
       "      <th>LotArea</th>\n",
       "      <th>Street</th>\n",
       "      <th>Alley</th>\n",
       "      <th>LotShape</th>\n",
       "      <th>LandContour</th>\n",
       "      <th>Utilities</th>\n",
       "      <th>...</th>\n",
       "      <th>PoolArea</th>\n",
       "      <th>PoolQC</th>\n",
       "      <th>Fence</th>\n",
       "      <th>MiscFeature</th>\n",
       "      <th>MiscVal</th>\n",
       "      <th>MoSold</th>\n",
       "      <th>YrSold</th>\n",
       "      <th>SaleType</th>\n",
       "      <th>SaleCondition</th>\n",
       "      <th>SalePrice</th>\n",
       "    </tr>\n",
       "  </thead>\n",
       "  <tbody>\n",
       "    <tr>\n",
       "      <th>0</th>\n",
       "      <td>1461</td>\n",
       "      <td>20</td>\n",
       "      <td>RH</td>\n",
       "      <td>80.0</td>\n",
       "      <td>11622</td>\n",
       "      <td>Pave</td>\n",
       "      <td>NaN</td>\n",
       "      <td>Reg</td>\n",
       "      <td>Lvl</td>\n",
       "      <td>AllPub</td>\n",
       "      <td>...</td>\n",
       "      <td>0</td>\n",
       "      <td>NaN</td>\n",
       "      <td>MnPrv</td>\n",
       "      <td>NaN</td>\n",
       "      <td>0</td>\n",
       "      <td>6</td>\n",
       "      <td>2010</td>\n",
       "      <td>WD</td>\n",
       "      <td>Normal</td>\n",
       "      <td>49912.056981</td>\n",
       "    </tr>\n",
       "    <tr>\n",
       "      <th>1</th>\n",
       "      <td>1462</td>\n",
       "      <td>20</td>\n",
       "      <td>RL</td>\n",
       "      <td>81.0</td>\n",
       "      <td>14267</td>\n",
       "      <td>Pave</td>\n",
       "      <td>NaN</td>\n",
       "      <td>IR1</td>\n",
       "      <td>Lvl</td>\n",
       "      <td>AllPub</td>\n",
       "      <td>...</td>\n",
       "      <td>0</td>\n",
       "      <td>NaN</td>\n",
       "      <td>NaN</td>\n",
       "      <td>Gar2</td>\n",
       "      <td>12500</td>\n",
       "      <td>6</td>\n",
       "      <td>2010</td>\n",
       "      <td>WD</td>\n",
       "      <td>Normal</td>\n",
       "      <td>113213.127343</td>\n",
       "    </tr>\n",
       "    <tr>\n",
       "      <th>2</th>\n",
       "      <td>1463</td>\n",
       "      <td>60</td>\n",
       "      <td>RL</td>\n",
       "      <td>74.0</td>\n",
       "      <td>13830</td>\n",
       "      <td>Pave</td>\n",
       "      <td>NaN</td>\n",
       "      <td>IR1</td>\n",
       "      <td>Lvl</td>\n",
       "      <td>AllPub</td>\n",
       "      <td>...</td>\n",
       "      <td>0</td>\n",
       "      <td>NaN</td>\n",
       "      <td>MnPrv</td>\n",
       "      <td>NaN</td>\n",
       "      <td>0</td>\n",
       "      <td>3</td>\n",
       "      <td>2010</td>\n",
       "      <td>WD</td>\n",
       "      <td>Normal</td>\n",
       "      <td>114566.845130</td>\n",
       "    </tr>\n",
       "    <tr>\n",
       "      <th>3</th>\n",
       "      <td>1464</td>\n",
       "      <td>60</td>\n",
       "      <td>RL</td>\n",
       "      <td>78.0</td>\n",
       "      <td>9978</td>\n",
       "      <td>Pave</td>\n",
       "      <td>NaN</td>\n",
       "      <td>IR1</td>\n",
       "      <td>Lvl</td>\n",
       "      <td>AllPub</td>\n",
       "      <td>...</td>\n",
       "      <td>0</td>\n",
       "      <td>NaN</td>\n",
       "      <td>NaN</td>\n",
       "      <td>NaN</td>\n",
       "      <td>0</td>\n",
       "      <td>6</td>\n",
       "      <td>2010</td>\n",
       "      <td>WD</td>\n",
       "      <td>Normal</td>\n",
       "      <td>121688.328245</td>\n",
       "    </tr>\n",
       "    <tr>\n",
       "      <th>4</th>\n",
       "      <td>1465</td>\n",
       "      <td>120</td>\n",
       "      <td>RL</td>\n",
       "      <td>43.0</td>\n",
       "      <td>5005</td>\n",
       "      <td>Pave</td>\n",
       "      <td>NaN</td>\n",
       "      <td>IR1</td>\n",
       "      <td>HLS</td>\n",
       "      <td>AllPub</td>\n",
       "      <td>...</td>\n",
       "      <td>0</td>\n",
       "      <td>NaN</td>\n",
       "      <td>NaN</td>\n",
       "      <td>NaN</td>\n",
       "      <td>0</td>\n",
       "      <td>1</td>\n",
       "      <td>2010</td>\n",
       "      <td>WD</td>\n",
       "      <td>Normal</td>\n",
       "      <td>108795.866264</td>\n",
       "    </tr>\n",
       "  </tbody>\n",
       "</table>\n",
       "<p>5 rows × 81 columns</p>\n",
       "</div>"
      ],
      "text/plain": [
       "     Id  MSSubClass MSZoning  LotFrontage  LotArea Street Alley LotShape  \\\n",
       "0  1461          20       RH         80.0    11622   Pave   NaN      Reg   \n",
       "1  1462          20       RL         81.0    14267   Pave   NaN      IR1   \n",
       "2  1463          60       RL         74.0    13830   Pave   NaN      IR1   \n",
       "3  1464          60       RL         78.0     9978   Pave   NaN      IR1   \n",
       "4  1465         120       RL         43.0     5005   Pave   NaN      IR1   \n",
       "\n",
       "  LandContour Utilities  ... PoolArea PoolQC  Fence MiscFeature MiscVal  \\\n",
       "0         Lvl    AllPub  ...        0    NaN  MnPrv         NaN       0   \n",
       "1         Lvl    AllPub  ...        0    NaN    NaN        Gar2   12500   \n",
       "2         Lvl    AllPub  ...        0    NaN  MnPrv         NaN       0   \n",
       "3         Lvl    AllPub  ...        0    NaN    NaN         NaN       0   \n",
       "4         HLS    AllPub  ...        0    NaN    NaN         NaN       0   \n",
       "\n",
       "  MoSold YrSold  SaleType  SaleCondition      SalePrice  \n",
       "0      6   2010        WD         Normal   49912.056981  \n",
       "1      6   2010        WD         Normal  113213.127343  \n",
       "2      3   2010        WD         Normal  114566.845130  \n",
       "3      6   2010        WD         Normal  121688.328245  \n",
       "4      1   2010        WD         Normal  108795.866264  \n",
       "\n",
       "[5 rows x 81 columns]"
      ]
     },
     "execution_count": 44,
     "metadata": {},
     "output_type": "execute_result"
    }
   ],
   "source": [
    "test_df_orig.head()"
   ]
  },
  {
   "cell_type": "markdown",
   "metadata": {
    "colab_type": "text",
    "id": "Pxt7_5dBQlhy"
   },
   "source": [
    "4.2.4 Export the final dataset to a csv file"
   ]
  },
  {
   "cell_type": "code",
   "execution_count": 45,
   "metadata": {
    "colab": {},
    "colab_type": "code",
    "executionInfo": {
     "elapsed": 5693,
     "status": "ok",
     "timestamp": 1599661060923,
     "user": {
      "displayName": "Dapo Laniya",
      "photoUrl": "",
      "userId": "07293732013348809745"
     },
     "user_tz": 240
    },
    "id": "kx8eePVQQlhz"
   },
   "outputs": [],
   "source": [
    "#Exporting the final predicted dataset to a csv file\n",
    "result.to_csv('submission.csv')"
   ]
  },
  {
   "cell_type": "markdown",
   "metadata": {
    "colab_type": "text",
    "id": "HU-HaOghQlh3"
   },
   "source": [
    "### 4.3 Feature Importance"
   ]
  },
  {
   "cell_type": "markdown",
   "metadata": {
    "colab_type": "text",
    "id": "Pxt7_5dBQlhy"
   },
   "source": [
    "4.3.1 Fit the Gradient Boosting Model to the coded training data to compute feature importance"
   ]
  },
  {
   "cell_type": "code",
   "execution_count": 46,
   "metadata": {},
   "outputs": [
    {
     "data": {
      "text/plain": [
       "GradientBoostingRegressor(learning_rate=0.05, max_depth=8, min_samples_leaf=24,\n",
       "                          n_estimators=300, random_state=5)"
      ]
     },
     "execution_count": 46,
     "metadata": {},
     "output_type": "execute_result"
    }
   ],
   "source": [
    "grb = grbregr(n_estimators=300, learning_rate=0.05, max_depth=8, min_samples_split=2, min_samples_leaf=24, random_state=5)\n",
    "grb.fit(train_df1_X, train_df_logY )"
   ]
  },
  {
   "cell_type": "code",
   "execution_count": 47,
   "metadata": {
    "colab": {
     "base_uri": "https://localhost:8080/",
     "height": 722
    },
    "colab_type": "code",
    "executionInfo": {
     "elapsed": 1068,
     "status": "ok",
     "timestamp": 1599662324295,
     "user": {
      "displayName": "Dapo Laniya",
      "photoUrl": "",
      "userId": "07293732013348809745"
     },
     "user_tz": 240
    },
    "id": "38uN6Lu_yCJP",
    "outputId": "af5bccbf-1403-44e9-c4fe-d9928a3d9f7c",
    "scrolled": false
   },
   "outputs": [
    {
     "data": {
      "image/png": "[encoded data removed]",
      "text/plain": [
       "<Figure size 1440x720 with 1 Axes>"
      ]
     },
     "metadata": {
      "needs_background": "light"
     },
     "output_type": "display_data"
    }
   ],
   "source": [
    "# store feature importances\n",
    "\n",
    "if hasattr(grb, 'feature_importances_'):\n",
    "    importances = grb.feature_importances_\n",
    "\n",
    "else:\n",
    "    # for linear models which don't have feature_importances_\n",
    "    importances = [0]*len(train_df1_X.columns)\n",
    "\n",
    "feature_importances = pd.DataFrame({'feature':train_df1_X.columns, 'importance':importances})\n",
    "feature_importances.sort_values(by='importance', ascending=False, inplace=True)\n",
    "    \n",
    "# set index to 'feature'\n",
    "feature_importances.set_index('feature', inplace=True, drop=True)\n",
    "    \n",
    "# create plot\n",
    "feature_importances[0:25].plot.bar(figsize=(20,10))\n",
    "plt.show()"
   ]
  },
  {
   "cell_type": "markdown",
   "metadata": {
    "colab_type": "text",
    "id": "Lc2h8CLdQlgz"
   },
   "source": [
    "Findings :  \n",
    "    \n",
    "1. The top 5 important features are :\n",
    "   - OverallQualnorm\n",
    "   - Neighborhoodnorm\n",
    "   - GrLivAreanorm\n",
    "   - TotalBsmtSFnorm\n",
    "   - GarageCarsnorm\n",
    "2. All these features have high correlation to SalePrice as discovered in the EDA section of the project."
   ]
  },
  {
   "cell_type": "markdown",
   "metadata": {
    "colab_type": "text",
    "id": "hz6B1hKNQliK"
   },
   "source": [
    "### 4.4 Model Improvement Opportunities"
   ]
  },
  {
   "cell_type": "markdown",
   "metadata": {
    "colab_type": "text",
    "id": "cgmcMp1TQliL"
   },
   "source": [
    "1. Consider using Principal Component Regression, \n",
    "2. Consider performing log transformation on some of the independent variables\n",
    "3. Explore other available models\n",
    "4. Perform more EDA to identify features that can be combined to generate more direct features, for example:\n",
    "   - Total number of Bedrooms \n",
    "   - Total number of Bathrooms\n",
    "   - Direct feature stating pool availability or not "
   ]
  },
  {
   "cell_type": "markdown",
   "metadata": {},
   "source": [
    "### This is the conclusion of the Project. Thanks for following along."
   ]
  }
 ],
 "metadata": {
  "accelerator": "TPU",
  "colab": {
   "name": "Copy of Salary Prediction Notebook.ipynb",
   "provenance": [
    {
     "file_id": "1dZqfT5s7hjfGo79syoUpxanJYt9wbSuH",
     "timestamp": 1599650290555
    },
    {
     "file_id": "15ECUiWi_gnt08Y_LIVu3YKDntgwxA57V",
     "timestamp": 1599588421736
    }
   ],
   "toc_visible": true
  },
  "kernelspec": {
   "display_name": "Python 3",
   "language": "python",
   "name": "python3"
  },
  "language_info": {
   "codemirror_mode": {
    "name": "ipython",
    "version": 3
   },
   "file_extension": ".py",
   "mimetype": "text/x-python",
   "name": "python",
   "nbconvert_exporter": "python",
   "pygments_lexer": "ipython3",
   "version": "3.8.3"
  }
 },
 "nbformat": 4,
 "nbformat_minor": 1
}
